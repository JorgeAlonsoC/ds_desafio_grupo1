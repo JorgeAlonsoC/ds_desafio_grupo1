{
 "cells": [
  {
   "cell_type": "code",
   "execution_count": 1,
   "id": "1f8fe10d",
   "metadata": {},
   "outputs": [],
   "source": [
    "import pandas as pd\n",
    "\n",
    "\n",
    "df_int_login = pd.read_csv(\"https://desafiogrupo1.s3.us-east-1.amazonaws.com/df1_alimentacion.csv\")\n",
    "df_ddos = pd.read_csv(\"https://desafiogrupo1.s3.us-east-1.amazonaws.com/df_alimentacion_DDOS.csv\")\n",
    "df_phishing = pd.read_csv(\"https://desafiogrupo1.s3.us-east-1.amazonaws.com/df_prueba_phising.csv\")\n"
   ]
  },
  {
   "cell_type": "code",
   "execution_count": 4,
   "id": "84e99f30",
   "metadata": {},
   "outputs": [
    {
     "data": {
      "text/plain": [
       "((100, 57), (106, 79), (120, 16))"
      ]
     },
     "execution_count": 4,
     "metadata": {},
     "output_type": "execute_result"
    }
   ],
   "source": [
    "df_phishing.shape, df_ddos.shape, df_int_login.shape"
   ]
  },
  {
   "cell_type": "code",
   "execution_count": 8,
   "id": "61880719",
   "metadata": {},
   "outputs": [
    {
     "name": "stderr",
     "output_type": "stream",
     "text": [
      "C:\\Users\\Vicen\\AppData\\Local\\Temp\\ipykernel_3328\\854477262.py:19: UserWarning: pandas only supports SQLAlchemy connectable (engine/connection) or database string URI or sqlite3 DBAPI2 connection. Other DBAPI2 objects are not tested. Please consider using SQLAlchemy.\n",
      "  df = pd.read_sql(query, conn)\n"
     ]
    },
    {
     "data": {
      "image/png": "[encoded data removed]",
      "text/plain": [
       "<Figure size 640x480 with 1 Axes>"
      ]
     },
     "metadata": {},
     "output_type": "display_data"
    }
   ],
   "source": [
    "import matplotlib.pyplot as plt\n",
    "import seaborn as sns\n",
    "import psycopg2\n",
    "\n",
    "conn = psycopg2.connect(\n",
    "    dbname=\"desafiogrupo1\",\n",
    "    user=\"desafiogrupo1_user\",\n",
    "    password=\"g7jS0htW8QqiGPRymmJw0IJgb04QO3Jy\",\n",
    "    host=\"dpg-d36i177fte5s73bgaisg-a.oregon-postgres.render.com\",\n",
    "    port=\"5432\"\n",
    "    )\n",
    "\n",
    "cur = conn.cursor()\n",
    "query = \"\"\"\n",
    "SELECT * FROM logs\n",
    "    WHERE indicators IN ('Correo seguro', 'Posible phishing')\n",
    "\"\"\"\n",
    "\n",
    "df = pd.read_sql(query, conn)\n",
    "df_group = df.groupby('indicators')['severity'].size().reset_index(name='total')\n",
    "\n",
    "\n",
    "plt.pie(df_group['total'], labels=df_group['indicators'], colors=sns.color_palette(\"pastel\"), wedgeprops=dict(width=0.3), autopct='%1.1f%%' )\n",
    "plt.show()\n",
    "conn.close()"
   ]
  },
  {
   "cell_type": "code",
   "execution_count": 4,
   "id": "ee10cb3c",
   "metadata": {},
   "outputs": [],
   "source": [
    "from limpieza_datos2 import *"
   ]
  },
  {
   "cell_type": "code",
   "execution_count": null,
   "id": "fe3f87a0",
   "metadata": {},
   "outputs": [],
   "source": [
    "for i in range(4):\n",
    "    clean_data_phishing(df_phishing.iloc[i].to_dict())"
   ]
  },
  {
   "cell_type": "code",
   "execution_count": 3,
   "id": "9ebc7ec9",
   "metadata": {},
   "outputs": [
    {
     "name": "stdout",
     "output_type": "stream",
     "text": [
      "Conectando a PostgreSQL...\n",
      "Conexión establecida.\n",
      "Datos a insertar en logs: {'company_id': 1, 'type': 'Info', 'indicators': 'Login válido', 'severity': 0, 'date': datetime.date(2025, 2, 17), 'time': '10:25:40', 'actions_taken': 1}\n",
      "ID generado en logs: 1259\n",
      "Datos a insertar en login: {'log_id': 1259, 'login_timestamp': Timestamp('2020-02-17 10:25:40.854000'), 'user_id': 9084155980439359488, 'round_trip_time': None, 'ip_address': '51.174.133.75', 'country': 'NO', 'asn': 29695, 'user_agent': 'Mozilla/5.0  (iPad; CPU OS 7_1 like Mac OS X) AppleWebKit/533.1 (KHTML, like Gecko Version/4.0 Mobile Safari/533.1 variation/277457', 'country_code': 'NO', 'abuse_confidence_score': 0, 'last_reported_at': None, 'usage_type': 'Fixed Line ISP', 'domain': 'altibox.no', 'total_reports': 0}\n",
      "ID generado en login: 32\n",
      ":marca_de_verificación_blanca: Inserción completada correctamente.\n",
      "Conectando a PostgreSQL...\n",
      "Conexión establecida.\n",
      "Datos a insertar en logs: {'company_id': 1, 'type': 'Alerta', 'indicators': 'Ataque fallido', 'severity': 1, 'date': datetime.date(2025, 2, 17), 'time': '08:10:34', 'actions_taken': 1}\n",
      "ID generado en logs: 1260\n",
      "Datos a insertar en login: {'log_id': 1260, 'login_timestamp': Timestamp('2020-02-17 08:10:34.865000'), 'user_id': -4324475583306590208, 'round_trip_time': None, 'ip_address': '1.197.78.123', 'country': 'US', 'asn': 393398, 'user_agent': 'Mozilla/5.0 (Linux; Android 5.5.1; CHM-U01) AppleWebKit/537.36 (KHTML, like Gecko) Chrome/81.0.4044.2917.138 Mobile Safari/537.36 variation/90236', 'country_code': 'CN', 'abuse_confidence_score': 100, 'last_reported_at': Timestamp('2025-09-25 05:00:09+0000', tz='UTC'), 'usage_type': 'Fixed Line ISP', 'domain': 'hntele.com', 'total_reports': 1031}\n",
      "ID generado en login: 33\n",
      ":marca_de_verificación_blanca: Inserción completada correctamente.\n",
      "Conectando a PostgreSQL...\n",
      "Conexión establecida.\n",
      "Datos a insertar en logs: {'company_id': 1, 'type': 'Alerta', 'indicators': 'Ataque fallido', 'severity': 1, 'date': datetime.date(2025, 2, 17), 'time': '01:14:05', 'actions_taken': 1}\n",
      "ID generado en logs: 1261\n",
      "Datos a insertar en login: {'log_id': 1261, 'login_timestamp': Timestamp('2020-02-17 01:14:05.320000'), 'user_id': -4324475583306590208, 'round_trip_time': None, 'ip_address': '1.20.104.52', 'country': 'US', 'asn': 54903, 'user_agent': 'Mozilla/5.0  (iPhone; CPU iPhone OS 11_2_6 like Mac OS X) Gecko/20081407 Firefox/20.0.0.1618 variation/193372', 'country_code': 'TH', 'abuse_confidence_score': 100, 'last_reported_at': Timestamp('2025-09-22 20:09:14+0000', tz='UTC'), 'usage_type': 'Fixed Line ISP', 'domain': 'tot.co.th', 'total_reports': 29}\n",
      "ID generado en login: 34\n",
      ":marca_de_verificación_blanca: Inserción completada correctamente.\n",
      "Conectando a PostgreSQL...\n",
      "Conexión establecida.\n",
      "Datos a insertar en logs: {'company_id': 1, 'type': 'Info', 'indicators': 'Login válido', 'severity': 0, 'date': datetime.date(2025, 2, 16), 'time': '13:39:28', 'actions_taken': 1}\n",
      "ID generado en logs: 1262\n",
      "Datos a insertar en login: {'log_id': 1262, 'login_timestamp': Timestamp('2020-02-16 13:39:28.501000'), 'user_id': 5794113125642819584, 'round_trip_time': None, 'ip_address': '37.97.47.54', 'country': 'NO', 'asn': 29695, 'user_agent': 'Mozilla/5.0  (X11; CrOS armv7l 5978.98.0) AppleWebKit/537.36 (KHTML, like Gecko Chrome/73.0.3654.0 Safari/537.36 variation/964', 'country_code': 'DK', 'abuse_confidence_score': 0, 'last_reported_at': None, 'usage_type': 'Fixed Line ISP', 'domain': 'altibox.dk', 'total_reports': 0}\n",
      "ID generado en login: 35\n",
      ":marca_de_verificación_blanca: Inserción completada correctamente.\n"
     ]
    }
   ],
   "source": [
    "for i in range(4):\n",
    "    tres_en_uno(df_int_login.iloc[i].to_dict())"
   ]
  },
  {
   "cell_type": "code",
   "execution_count": 5,
   "id": "739315be",
   "metadata": {},
   "outputs": [],
   "source": [
    "import random\n",
    "import time\n",
    "import pandas as pd\n",
    "\n",
    "def malware_type_detection(dict):\n",
    "    if 'FILENAME' in dict.keys():\n",
    "        clean_data_phishing(dict)\n",
    "    elif 'Destination Port' in dict.keys():\n",
    "        clean_data_ddos(dict)\n",
    "    else:\n",
    "        tres_en_uno(dict)\n",
    "        \n",
    "\n",
    "def procesamiento_datos():\n",
    "    login_list =[]\n",
    "    df_int_login = pd.read_csv(\"https://desafiogrupo1.s3.us-east-1.amazonaws.com/df1_alimentacion.csv\")\n",
    "    df_ddos = pd.read_csv(\"https://desafiogrupo1.s3.us-east-1.amazonaws.com/df_alimentacion_DDOS.csv\")\n",
    "    df_phishing = pd.read_csv(\"https://desafiogrupo1.s3.us-east-1.amazonaws.com/df_prueba_phising.csv\")\n",
    "\n",
    "    for i in range(df_int_login.shape[0]):\n",
    "        login_list.append(df_int_login.iloc[i].to_dict())\n",
    "\n",
    "    for i in range(df_ddos.shape[0]):\n",
    "        login_list.append(df_ddos.iloc[i].to_dict())\n",
    "\n",
    "    for i in range(df_phishing.shape[0]):\n",
    "        login_list.append(df_phishing.iloc[i].to_dict())\n",
    "\n",
    "    random.shuffle(login_list)\n",
    "\n",
    "    for i in range(len(login_list)):\n",
    "        malware_type_detection(login_list[i])\n",
    "    return \"Success\""
   ]
  },
  {
   "cell_type": "code",
   "execution_count": 3,
   "id": "f25b8c9e",
   "metadata": {},
   "outputs": [
    {
     "name": "stdout",
     "output_type": "stream",
     "text": [
      "Conectando a PostgreSQL...\n",
      "Conexión establecida.\n",
      "Datos a insertar en logs: {'company_id': 1, 'type': 'Alerta', 'indicators': 'Cuenta comprometida', 'severity': 2, 'date': datetime.date(2025, 2, 11), 'time': '04:11:54', 'actions_taken': 1}\n",
      "ID generado en logs: 1331\n",
      "Datos a insertar en login: {'log_id': 1331, 'login_timestamp': Timestamp('2020-02-11 04:11:54.075000'), 'user_id': -6836927275509080064, 'round_trip_time': None, 'ip_address': '1.180.62.41', 'country': 'US', 'asn': 393398, 'user_agent': 'Mozilla/5.0  (iPhone; CPU iPhone OS 11_2_6 like Mac OS X) AppleWebKit/537.36 (KHTML, like Gecko Chrome/81.0.4044.71 Mobile Safari/537.36,gzip(gfe,gzip(gfe variation/150870', 'country_code': 'CN', 'abuse_confidence_score': 100, 'last_reported_at': Timestamp('2025-09-25 08:30:02+0000', tz='UTC'), 'usage_type': 'Fixed Line ISP', 'domain': 'chinatelecom.cn', 'total_reports': 282}\n",
      "ID generado en login: 104\n",
      ":marca_de_verificación_blanca: Inserción completada correctamente.\n",
      "Conectando a PostgreSQL...\n",
      "Conexión establecida.\n",
      "Datos a insertar en logs: {'company_id': 1, 'type': 'Info', 'indicators': 'Login válido', 'severity': 0, 'date': datetime.date(2025, 2, 10), 'time': '12:02:50', 'actions_taken': 1}\n",
      "ID generado en logs: 1332\n",
      "Datos a insertar en login: {'log_id': 1332, 'login_timestamp': Timestamp('2020-02-10 12:02:50.537000'), 'user_id': 5725258883023620096, 'round_trip_time': None, 'ip_address': '156.52.213.159', 'country': 'NO', 'asn': 29695, 'user_agent': 'Mozilla/5.0 (Linux; U; Android 13.0; i phone X Build/NRD90M; wv) AppleWebKit/537.36 (KHTML, like Gecko) Version/4.0 Chrome/85.0.4183.127 Mobile Safari/537.36 OPR/52.1.2254.54298', 'country_code': 'NO', 'abuse_confidence_score': 0, 'last_reported_at': None, 'usage_type': 'Fixed Line ISP', 'domain': 'fredrikstad.kommune.no', 'total_reports': 0}\n",
      "ID generado en login: 105\n",
      ":marca_de_verificación_blanca: Inserción completada correctamente.\n",
      "Conectando a PostgreSQL...\n",
      "Conexión establecida.\n",
      "Datos a insertar en logs: {'company_id': 1, 'type': 'Alerta', 'indicators': 'Ataque fallido', 'severity': 1, 'date': datetime.date(2025, 2, 17), 'time': '01:14:05', 'actions_taken': 1}\n",
      "ID generado en logs: 1333\n",
      "Datos a insertar en login: {'log_id': 1333, 'login_timestamp': Timestamp('2020-02-17 01:14:05.320000'), 'user_id': -4324475583306590208, 'round_trip_time': None, 'ip_address': '1.20.104.52', 'country': 'US', 'asn': 54903, 'user_agent': 'Mozilla/5.0  (iPhone; CPU iPhone OS 11_2_6 like Mac OS X) Gecko/20081407 Firefox/20.0.0.1618 variation/193372', 'country_code': 'TH', 'abuse_confidence_score': 100, 'last_reported_at': Timestamp('2025-09-22 20:09:14+0000', tz='UTC'), 'usage_type': 'Fixed Line ISP', 'domain': 'tot.co.th', 'total_reports': 29}\n",
      "ID generado en login: 106\n",
      ":marca_de_verificación_blanca: Inserción completada correctamente.\n",
      "Conectando a PostgreSQL...\n",
      "Conexión establecida.\n",
      "Datos a insertar en logs: {'company_id': 1, 'type': 'Info', 'indicators': 'Login válido', 'severity': 0, 'date': datetime.date(2025, 2, 5), 'time': '07:12:38', 'actions_taken': 1}\n",
      "ID generado en logs: 1334\n",
      "Datos a insertar en login: {'log_id': 1334, 'login_timestamp': Timestamp('2020-02-05 07:12:38.937000'), 'user_id': -8174862807324550144, 'round_trip_time': None, 'ip_address': '89.162.91.165', 'country': 'NO', 'asn': 29695, 'user_agent': 'Mozilla/5.0 (Macintosh; Intel Mac OS X 10_14_6) AppleWebKit/537.36 (KHTML, like Gecko) Chrome/86.0.4202.0 Safari/537.36', 'country_code': 'NO', 'abuse_confidence_score': 0, 'last_reported_at': None, 'usage_type': 'Fixed Line ISP', 'domain': 'signal.no', 'total_reports': 0}\n",
      "ID generado en login: 107\n",
      ":marca_de_verificación_blanca: Inserción completada correctamente.\n",
      "Conectando a PostgreSQL...\n",
      "Conexión establecida.\n",
      "Datos a insertar en logs: {'company_id': 1, 'type': 'Info', 'indicators': 'Login válido', 'severity': 0, 'date': datetime.date(2025, 2, 4), 'time': '16:05:38', 'actions_taken': 1}\n",
      "ID generado en logs: 1335\n",
      "Datos a insertar en login: {'log_id': 1335, 'login_timestamp': Timestamp('2020-02-04 16:05:38.907000'), 'user_id': -6499842787710489600, 'round_trip_time': None, 'ip_address': '152.93.151.185', 'country': 'NO', 'asn': 29695, 'user_agent': 'Mozilla/5.0 (Macintosh; Intel Mac OS X 10_14_6) AppleWebKit/537.36 (KHTML, like Gecko) Chrome/69.0.3497.17.19.92 Safari/537.36', 'country_code': 'NO', 'abuse_confidence_score': 0, 'last_reported_at': None, 'usage_type': 'Fixed Line ISP', 'domain': 'rogfk.no', 'total_reports': 0}\n",
      "ID generado en login: 108\n",
      ":marca_de_verificación_blanca: Inserción completada correctamente.\n",
      "Conectando a PostgreSQL...\n",
      "Conexión establecida.\n",
      "Datos a insertar en logs: {'company_id': 1, 'type': 'Info', 'indicators': 'Login válido', 'severity': 0, 'date': datetime.date(2025, 2, 14), 'time': '14:31:40', 'actions_taken': 1}\n",
      "ID generado en logs: 1336\n",
      "Datos a insertar en login: {'log_id': 1336, 'login_timestamp': Timestamp('2020-02-14 14:31:40.014000'), 'user_id': 3189214359910069760, 'round_trip_time': None, 'ip_address': '51.174.0.194', 'country': 'NO', 'asn': 29695, 'user_agent': 'Mozilla/5.0  (iPad; CPU OS 8_2 like Mac OS X) AppleWebKit/533.1 (KHTML, like Gecko Version/4.0 Mobile Safari/533.1', 'country_code': 'NO', 'abuse_confidence_score': 0, 'last_reported_at': None, 'usage_type': 'Fixed Line ISP', 'domain': 'altibox.no', 'total_reports': 0}\n",
      "ID generado en login: 109\n",
      ":marca_de_verificación_blanca: Inserción completada correctamente.\n"
     ]
    },
    {
     "ename": "KeyboardInterrupt",
     "evalue": "",
     "output_type": "error",
     "traceback": [
      "\u001b[31m---------------------------------------------------------------------------\u001b[39m",
      "\u001b[31mKeyboardInterrupt\u001b[39m                         Traceback (most recent call last)",
      "\u001b[36mCell\u001b[39m\u001b[36m \u001b[39m\u001b[32mIn[3]\u001b[39m\u001b[32m, line 1\u001b[39m\n\u001b[32m----> \u001b[39m\u001b[32m1\u001b[39m \u001b[43mprocesamiento_datos\u001b[49m\u001b[43m(\u001b[49m\u001b[43m)\u001b[49m\n",
      "\u001b[36mCell\u001b[39m\u001b[36m \u001b[39m\u001b[32mIn[2]\u001b[39m\u001b[32m, line 32\u001b[39m, in \u001b[36mprocesamiento_datos\u001b[39m\u001b[34m()\u001b[39m\n\u001b[32m     29\u001b[39m random.shuffle(login_list)\n\u001b[32m     31\u001b[39m \u001b[38;5;28;01mfor\u001b[39;00m i \u001b[38;5;129;01min\u001b[39;00m \u001b[38;5;28mrange\u001b[39m(\u001b[38;5;28mlen\u001b[39m(login_list)):\n\u001b[32m---> \u001b[39m\u001b[32m32\u001b[39m     \u001b[43mmalware_type_detection\u001b[49m\u001b[43m(\u001b[49m\u001b[43mlogin_list\u001b[49m\u001b[43m[\u001b[49m\u001b[43mi\u001b[49m\u001b[43m]\u001b[49m\u001b[43m)\u001b[49m\n\u001b[32m     33\u001b[39m \u001b[38;5;28;01mreturn\u001b[39;00m \u001b[33m\"\u001b[39m\u001b[33mSuccess\u001b[39m\u001b[33m\"\u001b[39m\n",
      "\u001b[36mCell\u001b[39m\u001b[36m \u001b[39m\u001b[32mIn[2]\u001b[39m\u001b[32m, line 9\u001b[39m, in \u001b[36mmalware_type_detection\u001b[39m\u001b[34m(dict)\u001b[39m\n\u001b[32m      7\u001b[39m     clean_data_phishing(\u001b[38;5;28mdict\u001b[39m)\n\u001b[32m      8\u001b[39m \u001b[38;5;28;01melif\u001b[39;00m \u001b[33m'\u001b[39m\u001b[33mDestination Port\u001b[39m\u001b[33m'\u001b[39m \u001b[38;5;129;01min\u001b[39;00m \u001b[38;5;28mdict\u001b[39m.keys():\n\u001b[32m----> \u001b[39m\u001b[32m9\u001b[39m     \u001b[43mclean_data_ddos\u001b[49m\u001b[43m(\u001b[49m\u001b[38;5;28;43mdict\u001b[39;49m\u001b[43m)\u001b[49m\n\u001b[32m     10\u001b[39m \u001b[38;5;28;01melse\u001b[39;00m:\n\u001b[32m     11\u001b[39m     tres_en_uno(\u001b[38;5;28mdict\u001b[39m)\n",
      "\u001b[36mFile \u001b[39m\u001b[32mc:\\Users\\Vicen\\Visual Code\\The_Bridge\\Personal_2506_dsft_thebridge\\Tripulaciones\\ds_desafio_grupo1\\app\\limpieza_datos2.py:123\u001b[39m, in \u001b[36mclean_data_ddos\u001b[39m\u001b[34m(archive_dic)\u001b[39m\n\u001b[32m    118\u001b[39m df[\u001b[33m\"\u001b[39m\u001b[33mDate\u001b[39m\u001b[33m\"\u001b[39m] = now.date()\n\u001b[32m    119\u001b[39m df[\u001b[33m\"\u001b[39m\u001b[33mTime\u001b[39m\u001b[33m\"\u001b[39m] = now.strftime(\u001b[33m\"\u001b[39m\u001b[33m%\u001b[39m\u001b[33mH:\u001b[39m\u001b[33m%\u001b[39m\u001b[33mM:\u001b[39m\u001b[33m%\u001b[39m\u001b[33mS\u001b[39m\u001b[33m\"\u001b[39m)\n\u001b[32m--> \u001b[39m\u001b[32m123\u001b[39m conn = \u001b[43mpsycopg2\u001b[49m\u001b[43m.\u001b[49m\u001b[43mconnect\u001b[49m\u001b[43m(\u001b[49m\n\u001b[32m    124\u001b[39m \u001b[43m\u001b[49m\u001b[43mdbname\u001b[49m\u001b[43m=\u001b[49m\u001b[33;43m\"\u001b[39;49m\u001b[33;43mdesafiogrupo1\u001b[39;49m\u001b[33;43m\"\u001b[39;49m\u001b[43m,\u001b[49m\n\u001b[32m    125\u001b[39m \u001b[43m\u001b[49m\u001b[43muser\u001b[49m\u001b[43m=\u001b[49m\u001b[33;43m\"\u001b[39;49m\u001b[33;43mdesafiogrupo1_user\u001b[39;49m\u001b[33;43m\"\u001b[39;49m\u001b[43m,\u001b[49m\n\u001b[32m    126\u001b[39m \u001b[43m\u001b[49m\u001b[43mpassword\u001b[49m\u001b[43m=\u001b[49m\u001b[33;43m\"\u001b[39;49m\u001b[33;43mg7jS0htW8QqiGPRymmJw0IJgb04QO3Jy\u001b[39;49m\u001b[33;43m\"\u001b[39;49m\u001b[43m,\u001b[49m\n\u001b[32m    127\u001b[39m \u001b[43m\u001b[49m\u001b[43mhost\u001b[49m\u001b[43m=\u001b[49m\u001b[33;43m\"\u001b[39;49m\u001b[33;43mdpg-d36i177fte5s73bgaisg-a.oregon-postgres.render.com\u001b[39;49m\u001b[33;43m\"\u001b[39;49m\u001b[43m,\u001b[49m\n\u001b[32m    128\u001b[39m \u001b[43m\u001b[49m\u001b[43mport\u001b[49m\u001b[43m=\u001b[49m\u001b[33;43m\"\u001b[39;49m\u001b[33;43m5432\u001b[39;49m\u001b[33;43m\"\u001b[39;49m\n\u001b[32m    129\u001b[39m \u001b[43m\u001b[49m\u001b[43m)\u001b[49m\n\u001b[32m    134\u001b[39m cur = conn.cursor()\n\u001b[32m    135\u001b[39m records = [\n\u001b[32m    136\u001b[39m     {\n\u001b[32m    137\u001b[39m         \u001b[33m\"\u001b[39m\u001b[33mid\u001b[39m\u001b[33m\"\u001b[39m: row[\u001b[33m'\u001b[39m\u001b[33mddos_id\u001b[39m\u001b[33m'\u001b[39m],\n\u001b[32m   (...)\u001b[39m\u001b[32m    146\u001b[39m     \u001b[38;5;28;01mfor\u001b[39;00m _, row \u001b[38;5;129;01min\u001b[39;00m df.iterrows()\n\u001b[32m    147\u001b[39m ]\n",
      "\u001b[36mFile \u001b[39m\u001b[32mc:\\Users\\Vicen\\AppData\\Local\\Programs\\Python\\Python313\\Lib\\site-packages\\psycopg2\\__init__.py:135\u001b[39m, in \u001b[36mconnect\u001b[39m\u001b[34m(dsn, connection_factory, cursor_factory, **kwargs)\u001b[39m\n\u001b[32m    132\u001b[39m     kwasync[\u001b[33m'\u001b[39m\u001b[33masync_\u001b[39m\u001b[33m'\u001b[39m] = kwargs.pop(\u001b[33m'\u001b[39m\u001b[33masync_\u001b[39m\u001b[33m'\u001b[39m)\n\u001b[32m    134\u001b[39m dsn = _ext.make_dsn(dsn, **kwargs)\n\u001b[32m--> \u001b[39m\u001b[32m135\u001b[39m conn = \u001b[43m_connect\u001b[49m\u001b[43m(\u001b[49m\u001b[43mdsn\u001b[49m\u001b[43m,\u001b[49m\u001b[43m \u001b[49m\u001b[43mconnection_factory\u001b[49m\u001b[43m=\u001b[49m\u001b[43mconnection_factory\u001b[49m\u001b[43m,\u001b[49m\u001b[43m \u001b[49m\u001b[43m*\u001b[49m\u001b[43m*\u001b[49m\u001b[43mkwasync\u001b[49m\u001b[43m)\u001b[49m\n\u001b[32m    136\u001b[39m \u001b[38;5;28;01mif\u001b[39;00m cursor_factory \u001b[38;5;129;01mis\u001b[39;00m \u001b[38;5;129;01mnot\u001b[39;00m \u001b[38;5;28;01mNone\u001b[39;00m:\n\u001b[32m    137\u001b[39m     conn.cursor_factory = cursor_factory\n",
      "\u001b[31mKeyboardInterrupt\u001b[39m: "
     ]
    }
   ],
   "source": [
    "procesamiento_datos()"
   ]
  }
 ],
 "metadata": {
  "kernelspec": {
   "display_name": "Python 3",
   "language": "python",
   "name": "python3"
  },
  "language_info": {
   "codemirror_mode": {
    "name": "ipython",
    "version": 3
   },
   "file_extension": ".py",
   "mimetype": "text/x-python",
   "name": "python",
   "nbconvert_exporter": "python",
   "pygments_lexer": "ipython3",
   "version": "3.13.7"
  }
 },
 "nbformat": 4,
 "nbformat_minor": 5
}
