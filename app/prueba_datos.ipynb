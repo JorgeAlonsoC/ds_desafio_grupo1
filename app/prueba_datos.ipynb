{
 "cells": [
  {
   "cell_type": "code",
   "execution_count": 1,
   "id": "1f8fe10d",
   "metadata": {},
   "outputs": [],
   "source": [
    "import pandas as pd\n",
    "from limpieza_datos import *\n",
    "\n",
    "df_int_login = pd.read_csv(\"https://desafiogrupo1.s3.us-east-1.amazonaws.com/df1_alimentacion.csv\")\n",
    "df_ddos = pd.read_csv(\"https://desafiogrupo1.s3.us-east-1.amazonaws.com/df_alimentacion_DDOS.csv\")\n",
    "df_phishing = pd.read_csv(\"https://desafiogrupo1.s3.us-east-1.amazonaws.com/df_alimentacion_phising.csv\")\n"
   ]
  },
  {
   "cell_type": "code",
   "execution_count": 8,
   "id": "643673f0",
   "metadata": {},
   "outputs": [
    {
     "data": {
      "text/plain": [
       "{'index': 910396,\n",
       " 'Login Timestamp': '2020-02-15 12:29:39.965',\n",
       " 'User ID': -8343719474777979904,\n",
       " 'Round-Trip Time [ms]': nan,\n",
       " 'IP Address': '176.124.63.200',\n",
       " 'Country': 'NO',\n",
       " 'Region': 'Troms og Finnmark',\n",
       " 'City': 'Hammerfest',\n",
       " 'ASN': 200665,\n",
       " 'User Agent String': 'Mozilla/5.0 (Linux; U; Android 13.0; i phone X Build/NRD90M; wv) AppleWebKit/537.36 (KHTML, like Gecko) Version/4.0 Chrome/85.0.4183.127 Mobile Safari/537.36 OPR/52.1.2254.54298',\n",
       " 'Browser Name and Version': 'Opera Mobile 52.1.2254',\n",
       " 'OS Name and Version': 'Android 13.0',\n",
       " 'Device Type': 'mobile',\n",
       " 'Login Successful': True,\n",
       " 'Is Attack IP': False,\n",
       " 'Is Account Takeover': False}"
      ]
     },
     "execution_count": 8,
     "metadata": {},
     "output_type": "execute_result"
    }
   ],
   "source": [
    "df_int_login.iloc[10].to_dict()"
   ]
  },
  {
   "cell_type": "code",
   "execution_count": null,
   "id": "3046b34d",
   "metadata": {},
   "outputs": [],
   "source": [
    "def malware_type_detection(dict):\n",
    "    if 'FILENAME' in dict.keys():\n",
    "        clean_data_phishing(dict)\n",
    "    elif 'Destination Port' in dict.keys():\n",
    "        clean_data_ddos(dict)\n",
    "    else:\n",
    "        clean_data_login(dict)"
   ]
  },
  {
   "cell_type": "code",
   "execution_count": 3,
   "id": "56fa658c",
   "metadata": {},
   "outputs": [
    {
     "name": "stdout",
     "output_type": "stream",
     "text": [
      "[DB] Insertado 1 registro(s) en logs.\n"
     ]
    }
   ],
   "source": [
    "malware_type_detection(df_phishing.iloc[10].to_dict())\n",
    "malware_type_detection(df_ddos.iloc[20].to_dict())\n",
    "malware_type_detection(df_int_login.iloc[32].to_dict())"
   ]
  },
  {
   "cell_type": "code",
   "execution_count": 3,
   "id": "f21e6344",
   "metadata": {},
   "outputs": [],
   "source": [
    "for i in range(df_ddos.shape[0]):\n",
    "    clean_data_ddos2(df_ddos.iloc[i].to_dict())"
   ]
  },
  {
   "cell_type": "code",
   "execution_count": 2,
   "id": "f32556c5",
   "metadata": {},
   "outputs": [
    {
     "data": {
      "text/plain": [
       "106"
      ]
     },
     "execution_count": 2,
     "metadata": {},
     "output_type": "execute_result"
    }
   ],
   "source": [
    "df_ddos.shape[0]"
   ]
  },
  {
   "cell_type": "code",
   "execution_count": 44,
   "id": "f08b9f80",
   "metadata": {},
   "outputs": [],
   "source": [
    "login_list =[]\n",
    "for i in range(100):\n",
    "    login_list.append(df_int_login.iloc[i].to_dict())\n",
    "\n",
    "for i in range(100):\n",
    "    login_list.append(df_ddos.iloc[i].to_dict())\n",
    "\n",
    "for i in range(100):\n",
    "    login_list.append(df_ddos.iloc[i].to_dict())\n"
   ]
  },
  {
   "cell_type": "code",
   "execution_count": 45,
   "id": "bd2bc1b1",
   "metadata": {},
   "outputs": [
    {
     "data": {
      "text/plain": [
       "{'Destination Port': 53,\n",
       " 'Flow Duration': 205,\n",
       " 'Total Fwd Packets': 2,\n",
       " 'Total Backward Packets': 2,\n",
       " 'Total Length of Fwd Packets': 88,\n",
       " 'Flow Bytes/s': '1.346.341.463',\n",
       " 'Flow Packets/s': '1.951.219.512',\n",
       " 'Fwd Packet Length Max': 44,\n",
       " 'Fwd Packet Length Min': 44,\n",
       " 'Fwd Packet Length Mean': '44',\n",
       " 'SYN Flag Count': 0,\n",
       " 'ACK Flag Count': 0,\n",
       " 'RST Flag Count': 0,\n",
       " 'PSH Flag Count': 0,\n",
       " 'URG Flag Count': 0,\n",
       " 'CWE Flag Count': 0,\n",
       " 'ECE Flag Count': 0,\n",
       " 'Down/Up Ratio': 1,\n",
       " 'Subflow Fwd Packets': 2,\n",
       " 'Subflow Bwd Packets': 2,\n",
       " 'Active Mean': '0',\n",
       " 'Active Max': 0,\n",
       " 'Active Min': 0,\n",
       " 'Idle Mean': '0',\n",
       " 'Idle Max': 0,\n",
       " 'Idle Min': 0}"
      ]
     },
     "execution_count": 45,
     "metadata": {},
     "output_type": "execute_result"
    }
   ],
   "source": [
    "login_list[243]"
   ]
  },
  {
   "cell_type": "code",
   "execution_count": 4,
   "id": "f225e398",
   "metadata": {},
   "outputs": [
    {
     "name": "stdout",
     "output_type": "stream",
     "text": [
      "(954, 1, 'Nuevo', 'Incidencia', 'Sql Injection', 3, datetime.date(2025, 9, 23), datetime.time(12, 16, 39), '1')\n",
      "(953, 1, 'Nuevo', 'Incidencia', 'Sql Injection', 3, datetime.date(2025, 9, 23), datetime.time(12, 16, 37), '1')\n",
      "(952, 1, 'Nuevo', 'Incidencia', 'Sql Injection', 3, datetime.date(2025, 9, 23), datetime.time(12, 16, 36), '1')\n",
      "(951, 1, 'Nuevo', 'Incidencia', 'Sql Injection', 3, datetime.date(2025, 9, 23), datetime.time(12, 16, 34), '1')\n",
      "(950, 1, 'Nuevo', 'Incidencia', 'Sql Injection', 3, datetime.date(2025, 9, 23), datetime.time(12, 16, 33), '1')\n",
      "(949, 1, 'Nuevo', 'Incidencia', 'Sql Injection', 3, datetime.date(2025, 9, 23), datetime.time(12, 16, 32), '1')\n",
      "(948, 1, 'Nuevo', 'Incidencia', 'Sql Injection', 3, datetime.date(2025, 9, 23), datetime.time(12, 16, 30), '1')\n",
      "(947, 1, 'Nuevo', 'Incidencia', 'Sql Injection', 3, datetime.date(2025, 9, 23), datetime.time(12, 16, 29), '1')\n",
      "(946, 1, 'Nuevo', 'Incidencia', 'Sql Injection', 3, datetime.date(2025, 9, 23), datetime.time(12, 16, 27), '1')\n",
      "(945, 1, 'Nuevo', 'Incidencia', 'Sql Injection', 3, datetime.date(2025, 9, 23), datetime.time(12, 16, 26), '1')\n",
      "(944, 1, 'Nuevo', 'Incidencia', 'Sql Injection', 3, datetime.date(2025, 9, 23), datetime.time(12, 16, 24), '1')\n",
      "(943, 1, 'Nuevo', 'Incidencia', 'Sql Injection', 3, datetime.date(2025, 9, 23), datetime.time(12, 16, 23), '1')\n",
      "(942, 1, 'Nuevo', 'Incidencia', 'Sql Injection', 3, datetime.date(2025, 9, 23), datetime.time(12, 16, 22), '1')\n",
      "(941, 1, 'Nuevo', 'Incidencia', 'Sql Injection', 3, datetime.date(2025, 9, 23), datetime.time(12, 16, 20), '1')\n",
      "(940, 1, 'Nuevo', 'Incidencia', 'Sql Injection', 3, datetime.date(2025, 9, 23), datetime.time(12, 16, 18), '1')\n",
      "(939, 1, 'Nuevo', 'Alerta', 'XSS', 2, datetime.date(2025, 9, 23), datetime.time(12, 16, 17), '1')\n",
      "(938, 1, 'Nuevo', 'Alerta', 'XSS', 2, datetime.date(2025, 9, 23), datetime.time(12, 16, 16), '1')\n",
      "(937, 1, 'Nuevo', 'Alerta', 'XSS', 2, datetime.date(2025, 9, 23), datetime.time(12, 16, 14), '1')\n",
      "(936, 1, 'Nuevo', 'Alerta', 'XSS', 2, datetime.date(2025, 9, 23), datetime.time(12, 16, 13), '1')\n",
      "(935, 1, 'Nuevo', 'Alerta', 'XSS', 2, datetime.date(2025, 9, 23), datetime.time(12, 16, 11), '1')\n",
      "(934, 1, 'Nuevo', 'Alerta', 'XSS', 2, datetime.date(2025, 9, 23), datetime.time(12, 16, 10), '1')\n",
      "(933, 1, 'Nuevo', 'Alerta', 'XSS', 2, datetime.date(2025, 9, 23), datetime.time(12, 16, 8), '1')\n",
      "(932, 1, 'Nuevo', 'Alerta', 'XSS', 2, datetime.date(2025, 9, 23), datetime.time(12, 16, 7), '1')\n",
      "(931, 1, 'Nuevo', 'Alerta', 'XSS', 2, datetime.date(2025, 9, 23), datetime.time(12, 16, 5), '1')\n",
      "(930, 1, 'Nuevo', 'Alerta', 'XSS', 2, datetime.date(2025, 9, 23), datetime.time(12, 16, 4), '1')\n",
      "(929, 1, 'Nuevo', 'Alerta', 'XSS', 2, datetime.date(2025, 9, 23), datetime.time(12, 16, 2), '1')\n",
      "(928, 1, 'Nuevo', 'Alerta', 'XSS', 2, datetime.date(2025, 9, 23), datetime.time(12, 16, 1), '1')\n",
      "(927, 1, 'Nuevo', 'Alerta', 'XSS', 2, datetime.date(2025, 9, 23), datetime.time(12, 16), '1')\n",
      "(926, 1, 'Nuevo', 'Alerta', 'XSS', 2, datetime.date(2025, 9, 23), datetime.time(12, 15, 58), '1')\n",
      "(925, 1, 'Nuevo', 'Alerta', 'XSS', 2, datetime.date(2025, 9, 23), datetime.time(12, 15, 57), '1')\n",
      "(924, 1, 'Nuevo', 'Alerta', 'XSS', 2, datetime.date(2025, 9, 23), datetime.time(12, 15, 55), '1')\n",
      "(923, 1, 'Nuevo', 'Alerta', 'XSS', 2, datetime.date(2025, 9, 23), datetime.time(12, 15, 54), '1')\n",
      "(922, 1, 'Nuevo', 'Alerta', 'XSS', 2, datetime.date(2025, 9, 23), datetime.time(12, 15, 52), '1')\n",
      "(921, 1, 'Nuevo', 'Alerta', 'XSS', 2, datetime.date(2025, 9, 23), datetime.time(12, 15, 51), '1')\n",
      "(920, 1, 'Nuevo', 'Alerta', 'XSS', 2, datetime.date(2025, 9, 23), datetime.time(12, 15, 50), '1')\n",
      "(919, 1, 'Nuevo', 'Alerta', 'XSS', 2, datetime.date(2025, 9, 23), datetime.time(12, 15, 48), '1')\n",
      "(918, 1, 'Nuevo', 'Alerta', 'XSS', 2, datetime.date(2025, 9, 23), datetime.time(12, 15, 47), '1')\n",
      "(917, 1, 'Nuevo', 'Alerta', 'XSS', 2, datetime.date(2025, 9, 23), datetime.time(12, 15, 45), '1')\n",
      "(916, 1, 'Nuevo', 'Alerta', 'XSS', 2, datetime.date(2025, 9, 23), datetime.time(12, 15, 44), '1')\n",
      "(915, 1, 'Nuevo', 'Alerta', 'XSS', 2, datetime.date(2025, 9, 23), datetime.time(12, 15, 42), '1')\n",
      "(914, 1, 'Nuevo', 'Alerta', 'XSS', 2, datetime.date(2025, 9, 23), datetime.time(12, 15, 41), '1')\n",
      "(913, 1, 'Nuevo', 'Alerta', 'XSS', 2, datetime.date(2025, 9, 23), datetime.time(12, 15, 39), '1')\n",
      "(912, 1, 'Nuevo', 'Alerta', 'XSS', 2, datetime.date(2025, 9, 23), datetime.time(12, 15, 38), '1')\n",
      "(911, 1, 'Nuevo', 'Alerta', 'XSS', 2, datetime.date(2025, 9, 23), datetime.time(12, 15, 36), '1')\n",
      "(910, 1, 'Nuevo', 'Alerta', 'XSS', 2, datetime.date(2025, 9, 23), datetime.time(12, 15, 35), '1')\n",
      "(909, 1, 'Nuevo', 'Alerta', 'Brute Force', 1, datetime.date(2025, 9, 23), datetime.time(12, 15, 33), '1')\n",
      "(908, 1, 'Nuevo', 'Alerta', 'Brute Force', 1, datetime.date(2025, 9, 23), datetime.time(12, 15, 32), '1')\n",
      "(907, 1, 'Nuevo', 'Alerta', 'Brute Force', 1, datetime.date(2025, 9, 23), datetime.time(12, 15, 31), '1')\n",
      "(906, 1, 'Nuevo', 'Alerta', 'Brute Force', 1, datetime.date(2025, 9, 23), datetime.time(12, 15, 29), '1')\n",
      "(905, 1, 'Nuevo', 'Alerta', 'Brute Force', 1, datetime.date(2025, 9, 23), datetime.time(12, 15, 28), '1')\n",
      "(904, 1, 'Nuevo', 'Alerta', 'Brute Force', 1, datetime.date(2025, 9, 23), datetime.time(12, 15, 26), '1')\n",
      "(903, 1, 'Nuevo', 'Alerta', 'Brute Force', 1, datetime.date(2025, 9, 23), datetime.time(12, 15, 25), '1')\n",
      "(902, 1, 'Nuevo', 'Alerta', 'Brute Force', 1, datetime.date(2025, 9, 23), datetime.time(12, 15, 23), '1')\n",
      "(901, 1, 'Nuevo', 'Alerta', 'Brute Force', 1, datetime.date(2025, 9, 23), datetime.time(12, 15, 22), '1')\n",
      "(900, 1, 'Nuevo', 'Alerta', 'Brute Force', 1, datetime.date(2025, 9, 23), datetime.time(12, 15, 21), '1')\n",
      "(899, 1, 'Nuevo', 'Alerta', 'Brute Force', 1, datetime.date(2025, 9, 23), datetime.time(12, 15, 19), '1')\n",
      "(898, 1, 'Nuevo', 'Alerta', 'Brute Force', 1, datetime.date(2025, 9, 23), datetime.time(12, 15, 17), '1')\n",
      "(897, 1, 'Nuevo', 'Alerta', 'Brute Force', 1, datetime.date(2025, 9, 23), datetime.time(12, 15, 16), '1')\n",
      "(896, 1, 'Nuevo', 'Alerta', 'Brute Force', 1, datetime.date(2025, 9, 23), datetime.time(12, 15, 14), '1')\n",
      "(895, 1, 'Nuevo', 'Alerta', 'Brute Force', 1, datetime.date(2025, 9, 23), datetime.time(12, 15, 13), '1')\n",
      "(894, 1, 'Nuevo', 'Alerta', 'Brute Force', 1, datetime.date(2025, 9, 23), datetime.time(12, 15, 11), '1')\n",
      "(893, 1, 'Nuevo', 'Alerta', 'Brute Force', 1, datetime.date(2025, 9, 23), datetime.time(12, 15, 10), '1')\n",
      "(892, 1, 'Nuevo', 'Alerta', 'Brute Force', 1, datetime.date(2025, 9, 23), datetime.time(12, 15, 8), '1')\n",
      "(891, 1, 'Nuevo', 'Alerta', 'Brute Force', 1, datetime.date(2025, 9, 23), datetime.time(12, 15, 7), '1')\n",
      "(890, 1, 'Nuevo', 'Alerta', 'Brute Force', 1, datetime.date(2025, 9, 23), datetime.time(12, 15, 6), '1')\n",
      "(889, 1, 'Nuevo', 'Alerta', 'Brute Force', 1, datetime.date(2025, 9, 23), datetime.time(12, 15, 4), '1')\n",
      "(888, 1, 'Nuevo', 'Alerta', 'Brute Force', 1, datetime.date(2025, 9, 23), datetime.time(12, 15, 3), '1')\n",
      "(887, 1, 'Nuevo', 'Alerta', 'Brute Force', 1, datetime.date(2025, 9, 23), datetime.time(12, 15, 1), '1')\n",
      "(886, 1, 'Nuevo', 'Alerta', 'Brute Force', 1, datetime.date(2025, 9, 23), datetime.time(12, 15), '1')\n",
      "(885, 1, 'Nuevo', 'Alerta', 'Brute Force', 1, datetime.date(2025, 9, 23), datetime.time(12, 14, 58), '1')\n",
      "(884, 1, 'Nuevo', 'Alerta', 'Brute Force', 1, datetime.date(2025, 9, 23), datetime.time(12, 14, 57), '1')\n",
      "(883, 1, 'Nuevo', 'Alerta', 'Brute Force', 1, datetime.date(2025, 9, 23), datetime.time(12, 14, 55), '1')\n",
      "(882, 1, 'Nuevo', 'Alerta', 'Brute Force', 1, datetime.date(2025, 9, 23), datetime.time(12, 14, 54), '1')\n",
      "(881, 1, 'Nuevo', 'Alerta', 'Brute Force', 1, datetime.date(2025, 9, 23), datetime.time(12, 14, 52), '1')\n",
      "(880, 1, 'Nuevo', 'Alerta', 'Brute Force', 1, datetime.date(2025, 9, 23), datetime.time(12, 14, 51), '1')\n",
      "(879, 1, 'Nuevo', 'Info', 'BENIGN', 0, datetime.date(2025, 9, 23), datetime.time(12, 14, 50), '1')\n",
      "(878, 1, 'Nuevo', 'Info', 'BENIGN', 0, datetime.date(2025, 9, 23), datetime.time(12, 14, 48), '1')\n",
      "(877, 1, 'Nuevo', 'Info', 'BENIGN', 0, datetime.date(2025, 9, 23), datetime.time(12, 14, 47), '1')\n",
      "(876, 1, 'Nuevo', 'Info', 'BENIGN', 0, datetime.date(2025, 9, 23), datetime.time(12, 14, 45), '1')\n",
      "(875, 1, 'Nuevo', 'Info', 'BENIGN', 0, datetime.date(2025, 9, 23), datetime.time(12, 14, 44), '1')\n",
      "(874, 1, 'Nuevo', 'Info', 'BENIGN', 0, datetime.date(2025, 9, 23), datetime.time(12, 14, 42), '1')\n",
      "(873, 1, 'Nuevo', 'Info', 'BENIGN', 0, datetime.date(2025, 9, 23), datetime.time(12, 14, 41), '1')\n",
      "(872, 1, 'Nuevo', 'Info', 'BENIGN', 0, datetime.date(2025, 9, 23), datetime.time(12, 14, 39), '1')\n",
      "(871, 1, 'Nuevo', 'Info', 'BENIGN', 0, datetime.date(2025, 9, 23), datetime.time(12, 14, 38), '1')\n",
      "(870, 1, 'Nuevo', 'Info', 'BENIGN', 0, datetime.date(2025, 9, 23), datetime.time(12, 14, 36), '1')\n",
      "(869, 1, 'Nuevo', 'Info', 'BENIGN', 0, datetime.date(2025, 9, 23), datetime.time(12, 14, 35), '1')\n",
      "(868, 1, 'Nuevo', 'Info', 'BENIGN', 0, datetime.date(2025, 9, 23), datetime.time(12, 14, 33), '1')\n",
      "(867, 1, 'Nuevo', 'Info', 'BENIGN', 0, datetime.date(2025, 9, 23), datetime.time(12, 14, 32), '1')\n",
      "(866, 1, 'Nuevo', 'Info', 'BENIGN', 0, datetime.date(2025, 9, 23), datetime.time(12, 14, 31), '1')\n",
      "(865, 1, 'Nuevo', 'Info', 'BENIGN', 0, datetime.date(2025, 9, 23), datetime.time(12, 14, 29), '1')\n",
      "(864, 1, 'Nuevo', 'Info', 'BENIGN', 0, datetime.date(2025, 9, 23), datetime.time(12, 14, 28), '1')\n",
      "(863, 1, 'Nuevo', 'Info', 'BENIGN', 0, datetime.date(2025, 9, 23), datetime.time(12, 14, 26), '1')\n",
      "(862, 1, 'Nuevo', 'Info', 'BENIGN', 0, datetime.date(2025, 9, 23), datetime.time(12, 14, 25), '1')\n",
      "(861, 1, 'Nuevo', 'Info', 'BENIGN', 0, datetime.date(2025, 9, 23), datetime.time(12, 14, 23), '1')\n",
      "(860, 1, 'Nuevo', 'Info', 'BENIGN', 0, datetime.date(2025, 9, 23), datetime.time(12, 14, 22), '1')\n",
      "(859, 1, 'Nuevo', 'Info', 'BENIGN', 0, datetime.date(2025, 9, 23), datetime.time(12, 14, 21), '1')\n",
      "(858, 1, 'Nuevo', 'Info', 'BENIGN', 0, datetime.date(2025, 9, 23), datetime.time(12, 14, 19), '1')\n",
      "(857, 1, 'Nuevo', 'Info', 'BENIGN', 0, datetime.date(2025, 9, 23), datetime.time(12, 14, 18), '1')\n",
      "(856, 1, 'Nuevo', 'Info', 'BENIGN', 0, datetime.date(2025, 9, 23), datetime.time(12, 14, 16), '1')\n",
      "(855, 1, 'Nuevo', 'Info', 'BENIGN', 0, datetime.date(2025, 9, 23), datetime.time(12, 14, 15), '1')\n",
      "(854, 1, 'Nuevo', 'Info', 'BENIGN', 0, datetime.date(2025, 9, 23), datetime.time(12, 14, 13), '1')\n",
      "(853, 1, 'Nuevo', 'Info', 'BENIGN', 0, datetime.date(2025, 9, 23), datetime.time(12, 14, 12), '1')\n",
      "(852, 1, 'Nuevo', 'Info', 'BENIGN', 0, datetime.date(2025, 9, 23), datetime.time(12, 14, 10), '1')\n",
      "(851, 1, 'Nuevo', 'Info', 'BENIGN', 0, datetime.date(2025, 9, 23), datetime.time(12, 14, 9), '1')\n",
      "(850, 1, 'Nuevo', 'Info', 'BENIGN', 0, datetime.date(2025, 9, 23), datetime.time(12, 14, 7), '1')\n"
     ]
    }
   ],
   "source": [
    "import psycopg2\n",
    "\n",
    "# Credenciales\n",
    "DB_USER = \"desafiogrupo1_user\"\n",
    "DB_HOST = \"dpg-d36i177fte5s73bgaisg-a.oregon-postgres.render.com\"\n",
    "DB_NAME = \"desafiogrupo1\"\n",
    "DB_PASS = \"g7jS0htW8QqiGPRymmJw0IJgb04QO3Jy\"\n",
    "DB_PORT = \"5432\"\n",
    "\n",
    "try:\n",
    "    # Crear conexión\n",
    "    conn = psycopg2.connect(\n",
    "        dbname=DB_NAME,\n",
    "        user=DB_USER,\n",
    "        password=DB_PASS,\n",
    "        host=DB_HOST,\n",
    "        port=DB_PORT\n",
    "    )\n",
    "\n",
    "    # Crear cursor\n",
    "    cur = conn.cursor()\n",
    "\n",
    "    # Probar con una consulta\n",
    "    cur.execute(\"SELECT * FROM logs ORDER BY ID DESC LIMIT 106;\")\n",
    "    cur.fetchone()\n",
    "    for row in cur.fetchall():\n",
    "        print(row)\n",
    "\n",
    "    # Cerrar\n",
    "    cur.close()\n",
    "    conn.close()\n",
    "\n",
    "except Exception as e:\n",
    "    print(\"Error de conexión:\", e)\n"
   ]
  },
  {
   "cell_type": "code",
   "execution_count": 9,
   "id": "61880719",
   "metadata": {},
   "outputs": [
    {
     "name": "stderr",
     "output_type": "stream",
     "text": [
      "C:\\Users\\Vicen\\AppData\\Local\\Temp\\ipykernel_6548\\3732104255.py:20: UserWarning: pandas only supports SQLAlchemy connectable (engine/connection) or database string URI or sqlite3 DBAPI2 connection. Other DBAPI2 objects are not tested. Please consider using SQLAlchemy.\n",
      "  df = pd.read_sql(query, conn)\n"
     ]
    },
    {
     "data": {
      "image/png": "[encoded data removed]",
      "text/plain": [
       "<Figure size 640x480 with 1 Axes>"
      ]
     },
     "metadata": {},
     "output_type": "display_data"
    }
   ],
   "source": [
    "import matplotlib.pyplot as plt\n",
    "import seaborn as sns\n",
    "\n",
    "conn = psycopg2.connect(\n",
    "    dbname=\"desafiogrupo1\",\n",
    "    user=\"desafiogrupo1_user\",\n",
    "    password=\"g7jS0htW8QqiGPRymmJw0IJgb04QO3Jy\",\n",
    "    host=\"dpg-d36i177fte5s73bgaisg-a.oregon-postgres.render.com\",\n",
    "    port=\"5432\"\n",
    "    )\n",
    "\n",
    "cur = conn.cursor()\n",
    "query = \"\"\"\n",
    "SELECT *\n",
    "FROM public.logs\n",
    "WHERE indicators IN ('BENIGN', 'XSS', 'Brute Force', 'Sql Injection')\n",
    ";\n",
    "\"\"\"\n",
    "\n",
    "df = pd.read_sql(query, conn)\n",
    "df_group = df.groupby('indicators')['severity'].size().reset_index(name='total')\n",
    "\n",
    "\n",
    "plt.pie(df_group['total'], labels=df_group['indicators'], colors=sns.color_palette(\"pastel\"), wedgeprops=dict(width=0.3), autopct='%1.1f%%' )\n",
    "plt.show()\n",
    "conn.close()"
   ]
  },
  {
   "cell_type": "code",
   "execution_count": null,
   "id": "d070a5c4",
   "metadata": {},
   "outputs": [],
   "source": [
    "import requests\n",
    "from flask import send_file, request\n",
    "import io\n",
    "\n",
    "\n",
    "from flask import Flask, request, jsonify, send_file, send_from_directory\n",
    "from flask_cors import CORS\n",
    "from datetime import datetime\n",
    "import os\n",
    "\n",
    "def download_pdf():\n",
    "    from reportlab.platypus import SimpleDocTemplate, Paragraph, Spacer\n",
    "    from reportlab.lib.styles import getSampleStyleSheet, ParagraphStyle\n",
    "    from reportlab.lib.pagesizes import A4\n",
    "    from reportlab.lib.enums import TA_JUSTIFY\n",
    "    data = request.get_json()\n",
    "    theme = data.get(\"theme\", \"Sin tema\")\n",
    "    character = data.get(\"character\", \"Sin personaje\")\n",
    "    tone = data.get(\"tone\", \"Normal\")\n",
    "    story = data.get(\"story\", \"\")\n",
    "\n",
    "    buffer = io.BytesIO()\n",
    "    \n",
    "    # Documento A4 con márgenes\n",
    "    doc = SimpleDocTemplate(\n",
    "        buffer,\n",
    "        pagesize=A4,\n",
    "        rightMargin=40,\n",
    "        leftMargin=40,\n",
    "        topMargin=40,\n",
    "        bottomMargin=40\n",
    "    )\n",
    "\n",
    "    styles = getSampleStyleSheet()\n",
    "    justify_style = ParagraphStyle(\n",
    "        'Justify',\n",
    "        parent=styles['Normal'],\n",
    "        alignment=TA_JUSTIFY,\n",
    "        leading=15 \n",
    "    )\n",
    "\n",
    "    story_elements = []\n",
    "    story_elements.append(Paragraph(f\"<b>Tema:</b> {theme}\", styles[\"Heading3\"]))\n",
    "    story_elements.append(Paragraph(f\"<b>Personaje:</b> {character}\", styles[\"Normal\"]))\n",
    "    story_elements.append(Paragraph(f\"<b>Tono:</b> {tone}\", styles[\"Normal\"]))\n",
    "    story_elements.append(Spacer(1, 12))\n",
    "\n",
    "    # Convertir saltos de línea en <br/> para que respeten el formato\n",
    "    story_html = story.replace(\"\\n\", \"<br/>\")\n",
    "    story_elements.append(Paragraph(\"<b>Cuento:</b>\", styles[\"Heading3\"]))\n",
    "    story_elements.append(Paragraph(story_html, justify_style))\n",
    "\n",
    "    doc.build(story_elements)\n",
    "    buffer.seek(0)\n",
    "\n",
    "    return send_file(\n",
    "        buffer,\n",
    "        as_attachment=True,\n",
    "        download_name=f\"cuento_{theme.replace(' ', '_')}.pdf\",\n",
    "        mimetype=\"application/pdf\"\n",
    "    )"
   ]
  },
  {
   "cell_type": "code",
   "execution_count": 4,
   "id": "f0bacfe5",
   "metadata": {},
   "outputs": [
    {
     "data": {
      "text/plain": [
       "[{'URL': 'http://www.oshgiutn.gq',\n",
       "  'status': 'URL NO REPORTADA',\n",
       "  'malicious': None,\n",
       "  'suspicious': None,\n",
       "  'undetected': None,\n",
       "  'harmless': None,\n",
       "  'timeout': None,\n",
       "  'whois': None,\n",
       "  'tags': None,\n",
       "  'dns_records': [],\n",
       "  'last_dns_records_date': None,\n",
       "  'registrar': None,\n",
       "  'expiration_date': None,\n",
       "  'tld': None,\n",
       "  'issuer': None,\n",
       "  'subject_CN': None,\n",
       "  'cert_not_before': None,\n",
       "  'cert_not_after': None,\n",
       "  'cert_key_size': None,\n",
       "  'thumbprint_sha256': None,\n",
       "  'popularity_ranks': None,\n",
       "  'jarm': None,\n",
       "  'categories': None}]"
      ]
     },
     "metadata": {},
     "output_type": "display_data"
    },
    {
     "data": {
      "text/plain": [
       "[{'type': 'Alerta',\n",
       "  'indicators': 'Posible phishing',\n",
       "  'severity': 1,\n",
       "  'date': datetime.date(2025, 9, 24),\n",
       "  'time': '10:13:22'}]"
      ]
     },
     "metadata": {},
     "output_type": "display_data"
    },
    {
     "data": {
      "text/plain": [
       "[{'URL': 'https://www.solder.party',\n",
       "  'status': 'OK',\n",
       "  'malicious': 0,\n",
       "  'suspicious': 0,\n",
       "  'undetected': 28,\n",
       "  'harmless': 68,\n",
       "  'timeout': 0,\n",
       "  'whois': 'Admin City: REDACTED FOR PRIVACY\\nAdmin Country: REDACTED FOR PRIVACY\\nAdmin Organization: REDACTED FOR PRIVACY\\nAdmin Postal Code: REDACTED FOR PRIVACY\\nAdmin State/Province: REDACTED FOR PRIVACY\\nCreation Date: 2018-10-07T08:38:09Z\\nDNSSEC: unsigned\\nDomain Name: solder.party\\nDomain Status: clientDeleteProhibited https://icann.org/epp#clientDeleteProhibited\\nDomain Status: clientTransferProhibited https://icann.org/epp#clientTransferProhibited\\nName Server: ns1.digitalocean.com\\nName Server: ns2.digitalocean.com\\nName Server: ns3.digitalocean.com\\nRegistrant City: 1f8f4166599d23ee\\nRegistrant Country: FR\\nRegistrant Country: PL\\nRegistrant Email: 46860fe85ca2a91ds@\\nRegistrant Email: f651612a2f356ad3s@\\nRegistrant Fax Ext: 1f8f4166599d23ee\\nRegistrant Fax: 1f8f4166599d23ee\\nRegistrant Name: 1f8f4166599d23ee\\nRegistrant Organization: 3432650ec337c945\\nRegistrant Phone Ext: 1f8f4166599d23ee\\nRegistrant Phone: 1f8f4166599d23ee\\nRegistrant Postal Code: 1f8f4166599d23ee\\nRegistrant State/Province: 3432650ec337c945\\nRegistrant Street: 1f8f4166599d23ee\\nRegistrar Abuse Contact Email: abuse@ovh.net\\nRegistrar Abuse Contact Phone: +33.972101007\\nRegistrar IANA ID: 433\\nRegistrar Registration Expiration Date: 2025-10-07T08:38:09+02:00\\nRegistrar URL: https://www.ovh.com\\nRegistrar URL: www.ovh.com\\nRegistrar WHOIS Server: whois.ovh.com\\nRegistrar: OVH sas\\nRegistrar: OVH, SAS\\nRegistry Admin ID: OVH5BD33CDBT253\\nRegistry Admin ID: REDACTED FOR PRIVACY\\nRegistry Domain ID: D3D5AA00AA9FC4A56B8623C94D4FCCBB5-NSR\\nRegistry Domain ID: REDACTED FOR PRIVACY\\nRegistry Expiry Date: 2025-10-07T08:38:09Z\\nRegistry Registrant ID: OVH5BD33CDA9OHQ\\nRegistry Registrant ID: REDACTED FOR PRIVACY\\nRegistry Tech ID: OVH5BD33CDBT253\\nRegistry Tech ID: REDACTED FOR PRIVACY\\nTech City: REDACTED FOR PRIVACY\\nTech Country: REDACTED FOR PRIVACY\\nTech Organization: REDACTED FOR PRIVACY\\nTech Postal Code: REDACTED FOR PRIVACY\\nTech State/Province: REDACTED FOR PRIVACY\\nUpdated Date: 2024-11-21T08:38:10Z',\n",
       "  'tags': [],\n",
       "  'dns_records': ['139.59.210.24'],\n",
       "  'last_dns_records_date': 1755437525,\n",
       "  'registrar': 'OVH sas',\n",
       "  'expiration_date': 1759826289,\n",
       "  'tld': 'party',\n",
       "  'issuer': {'C': 'US', 'O': \"Let's Encrypt\", 'CN': 'R10'},\n",
       "  'subject_CN': 'arturo182.me',\n",
       "  'cert_not_before': '2025-08-11 18:15:49',\n",
       "  'cert_not_after': '2025-11-09 18:15:48',\n",
       "  'cert_key_size': None,\n",
       "  'thumbprint_sha256': '01fe581ff1c40d4bb29ad9d2156d8fee66df6d332ac145612071757b56634018',\n",
       "  'popularity_ranks': {},\n",
       "  'jarm': '29d29d15d29d29d21c29d29d29d29d74aaecca9f9c4a3303863dfee62b241e',\n",
       "  'categories': {}}]"
      ]
     },
     "metadata": {},
     "output_type": "display_data"
    },
    {
     "data": {
      "text/plain": [
       "[{'type': 'Alerta',\n",
       "  'indicators': 'Posible phishing',\n",
       "  'severity': 1,\n",
       "  'date': datetime.date(2025, 9, 24),\n",
       "  'time': '10:13:27'}]"
      ]
     },
     "metadata": {},
     "output_type": "display_data"
    },
    {
     "data": {
      "text/plain": [
       "[{'URL': 'https://www.toysnbricks.com',\n",
       "  'status': 'OK',\n",
       "  'malicious': 0,\n",
       "  'suspicious': 0,\n",
       "  'undetected': 28,\n",
       "  'harmless': 68,\n",
       "  'timeout': 0,\n",
       "  'whois': 'Admin City: Reykjavik\\nAdmin Country: IS\\nAdmin Email: 51263c0b67d19f47s@withheldforprivacy.com\\nAdmin Organization: Privacy service provided by Withheld for Privacy ehf\\nAdmin Postal Code: 101\\nAdmin State/Province: Capital Region\\nCreation Date: 2009-04-17T22:06:34.00Z\\nCreation Date: 2009-04-17T22:06:34Z\\nDNSSEC: unsigned\\nDomain Name: TOYSNBRICKS.COM\\nDomain Status: clientTransferProhibited https://icann.org/epp#clientTransferProhibited\\nDomain name: toysnbricks.com\\nName Server: ARAGORN.NS.CLOUDFLARE.COM\\nName Server: BRENNA.NS.CLOUDFLARE.COM\\nName Server: aragorn.ns.cloudflare.com\\nName Server: brenna.ns.cloudflare.com\\nRegistrant City: ddbf76e4e8cee320\\nRegistrant Country: IS\\nRegistrant Email: 51263c0b67d19f47s@withheldforprivacy.com\\nRegistrant Fax Ext: 3432650ec337c945\\nRegistrant Fax: 3432650ec337c945\\nRegistrant Name: 37bfbc24cafea5d2\\nRegistrant Organization: 4b7a0912c26a13e2\\nRegistrant Phone Ext: 3432650ec337c945\\nRegistrant Phone: 1c9a7bcdeaf95e9f\\nRegistrant Postal Code: f206c9d9737ad45d\\nRegistrant State/Province: 3e0204199d8ebf9c\\nRegistrant Street: c6523241936df1ba\\nRegistrar Abuse Contact Email: abuse@namecheap.com\\nRegistrar Abuse Contact Phone: +1.6613102107\\nRegistrar Abuse Contact Phone: +1.9854014545\\nRegistrar IANA ID: 1068\\nRegistrar Registration Expiration Date: 2026-04-17T22:06:34.00Z\\nRegistrar URL: http://www.namecheap.com\\nRegistrar WHOIS Server: whois.namecheap.com\\nRegistrar: NAMECHEAP INC\\nRegistrar: NameCheap, Inc.\\nRegistry Domain ID: 1552647951_DOMAIN_COM-VRSN\\nRegistry Expiry Date: 2026-04-17T22:06:34Z\\nTech City: Reykjavik\\nTech Country: IS\\nTech Email: 51263c0b67d19f47s@withheldforprivacy.com\\nTech Organization: Privacy service provided by Withheld for Privacy ehf\\nTech Postal Code: 101\\nTech State/Province: Capital Region\\nUpdated Date: 2025-03-18T09:42:43.36Z\\nUpdated Date: 2025-03-18T09:42:43Z',\n",
       "  'tags': [],\n",
       "  'dns_records': ['2606:4700:3037::6815:263f',\n",
       "   '172.67.219.181',\n",
       "   '104.21.38.63',\n",
       "   '2606:4700:3033::ac43:dbb5'],\n",
       "  'last_dns_records_date': 1755509655,\n",
       "  'registrar': 'NAMECHEAP INC',\n",
       "  'expiration_date': 1776463594,\n",
       "  'tld': 'com',\n",
       "  'issuer': {'C': 'US', 'O': 'Google Trust Services', 'CN': 'WE1'},\n",
       "  'subject_CN': 'toysnbricks.com',\n",
       "  'cert_not_before': '2025-07-02 00:45:52',\n",
       "  'cert_not_after': '2025-09-30 01:43:05',\n",
       "  'cert_key_size': None,\n",
       "  'thumbprint_sha256': 'e4aa9659278447acbc3516c1057064d5550b496211f1c490f7606e58297db926',\n",
       "  'popularity_ranks': {'Cisco Umbrella': {'rank': 965080,\n",
       "    'timestamp': 1755700695}},\n",
       "  'jarm': '27d40d40d00040d1dc42d43d00041d6183ff1bfae51ebd88d70384363d525c',\n",
       "  'categories': {}}]"
      ]
     },
     "metadata": {},
     "output_type": "display_data"
    },
    {
     "data": {
      "text/plain": [
       "[{'type': 'Alerta',\n",
       "  'indicators': 'Posible phishing',\n",
       "  'severity': 1,\n",
       "  'date': datetime.date(2025, 9, 24),\n",
       "  'time': '10:13:32'}]"
      ]
     },
     "metadata": {},
     "output_type": "display_data"
    },
    {
     "data": {
      "text/plain": [
       "[{'URL': 'https://www.fieldforcetracker.com',\n",
       "  'status': 'OK',\n",
       "  'malicious': 1,\n",
       "  'suspicious': 0,\n",
       "  'undetected': 31,\n",
       "  'harmless': 65,\n",
       "  'timeout': 0,\n",
       "  'whois': 'Admin City: REDACTED FOR PRIVACY\\nAdmin Country: REDACTED FOR PRIVACY\\nAdmin Email: 691f0969a5e7da17s@ionos.de\\nAdmin Organization: REDACTED FOR PRIVACY\\nAdmin Postal Code: REDACTED FOR PRIVACY\\nAdmin State/Province: REDACTED FOR PRIVACY\\nCreation Date: 2012-11-20T20:15:52.000Z\\nCreation Date: 2012-11-20T20:15:52Z\\nDNSSEC: Unsigned\\nDNSSEC: unsigned\\nDomain Name: FIELDFORCETRACKER.COM\\nDomain Name: fieldforcetracker.com\\nDomain Status: clientTransferProhibited https://icann.org/epp#clientTransferProhibited\\nDomain Status: clientTransferProhibited https://www.icann.org/epp#clientTransferProhibited\\nName Server: NS1049.UI-DNS.BIZ\\nName Server: NS1049.UI-DNS.COM\\nName Server: NS1049.UI-DNS.DE\\nName Server: NS1049.UI-DNS.ORG\\nNameserver: ns1049.ui-dns.biz\\nNameserver: ns1049.ui-dns.com\\nNameserver: ns1049.ui-dns.de\\nNameserver: ns1049.ui-dns.org\\nRegistrant City: 1f8f4166599d23ee\\nRegistrant Country: US\\nRegistrant Email: 691f0969a5e7da17s@ionos.de\\nRegistrant Fax Ext: 3432650ec337c945\\nRegistrant Fax: 1f8f4166599d23ee\\nRegistrant Name: 1f8f4166599d23ee\\nRegistrant Organization: 1f8f4166599d23ee\\nRegistrant Phone Ext: 3432650ec337c945\\nRegistrant Phone: 1f8f4166599d23ee\\nRegistrant Postal Code: 1f8f4166599d23ee\\nRegistrant State/Province: 9a233af5b6f71214\\nRegistrant Street: 1f8f4166599d23ee\\nRegistrar Abuse Contact Email: abuse@ionos.com\\nRegistrar Abuse Contact Phone: +1.6105601459\\nRegistrar Abuse Contact Phone: +1.8774612631\\nRegistrar IANA ID: 83\\nRegistrar Registration Expiration Date: 2025-11-20T20:15:52.000Z\\nRegistrar URL: http://ionos.com\\nRegistrar URL: http://www.ionos.com\\nRegistrar WHOIS Server: whois.ionos.com\\nRegistrar: IONOS SE\\nRegistry Admin ID: REDACTED FOR PRIVACY\\nRegistry Domain ID: 1760702881_DOMAIN_COM-VRSN\\nRegistry Expiry Date: 2025-11-20T20:15:52Z\\nRegistry Registrant ID: REDACTED FOR PRIVACY\\nRegistry Tech ID: REDACTED FOR PRIVACY\\nTech City: REDACTED FOR PRIVACY\\nTech Country: REDACTED FOR PRIVACY\\nTech Email: 691f0969a5e7da17s@ionos.de\\nTech Organization: REDACTED FOR PRIVACY\\nTech Postal Code: REDACTED FOR PRIVACY\\nTech State/Province: REDACTED FOR PRIVACY\\nUpdated Date: 2018-03-10T04:46:30.000Z\\nUpdated Date: 2024-11-21T08:36:33Z',\n",
       "  'tags': [],\n",
       "  'dns_records': ['74.208.236.66', '2607:f1c0:100f:f000::29f'],\n",
       "  'last_dns_records_date': 1757441402,\n",
       "  'registrar': 'IONOS SE',\n",
       "  'expiration_date': 1763669752,\n",
       "  'tld': 'com',\n",
       "  'issuer': {'C': 'GB',\n",
       "   'ST': 'Greater Manchester',\n",
       "   'L': 'Salford',\n",
       "   'O': 'Sectigo Limited',\n",
       "   'CN': 'Sectigo RSA Domain Validation Secure Server CA'},\n",
       "  'subject_CN': '*.fieldforcetracker.com',\n",
       "  'cert_not_before': '2024-10-30 00:00:00',\n",
       "  'cert_not_after': '2025-11-13 23:59:59',\n",
       "  'cert_key_size': None,\n",
       "  'thumbprint_sha256': 'f81ce2b68b69e20233cad8855bfd010e8c3570bf9aaaf2b779dd04c2cc415af8',\n",
       "  'popularity_ranks': {},\n",
       "  'jarm': '29d29d00029d29d00029d29d29d29d33c8b328f3568a7c72e1a441e5a1d146',\n",
       "  'categories': {'BitDefender': 'computersandsoftware',\n",
       "   'Sophos': 'general business'}}]"
      ]
     },
     "metadata": {},
     "output_type": "display_data"
    },
    {
     "data": {
      "text/plain": [
       "[{'type': 'Alerta',\n",
       "  'indicators': 'Posible phishing',\n",
       "  'severity': 1,\n",
       "  'date': datetime.date(2025, 9, 24),\n",
       "  'time': '10:13:38'}]"
      ]
     },
     "metadata": {},
     "output_type": "display_data"
    },
    {
     "data": {
      "text/plain": [
       "[{'URL': 'http://www.jackiekate.xyz',\n",
       "  'status': 'URL NO REPORTADA',\n",
       "  'malicious': None,\n",
       "  'suspicious': None,\n",
       "  'undetected': None,\n",
       "  'harmless': None,\n",
       "  'timeout': None,\n",
       "  'whois': None,\n",
       "  'tags': None,\n",
       "  'dns_records': [],\n",
       "  'last_dns_records_date': None,\n",
       "  'registrar': None,\n",
       "  'expiration_date': None,\n",
       "  'tld': None,\n",
       "  'issuer': None,\n",
       "  'subject_CN': None,\n",
       "  'cert_not_before': None,\n",
       "  'cert_not_after': None,\n",
       "  'cert_key_size': None,\n",
       "  'thumbprint_sha256': None,\n",
       "  'popularity_ranks': None,\n",
       "  'jarm': None,\n",
       "  'categories': None}]"
      ]
     },
     "metadata": {},
     "output_type": "display_data"
    },
    {
     "data": {
      "text/plain": [
       "[{'type': 'Alerta',\n",
       "  'indicators': 'Posible phishing',\n",
       "  'severity': 1,\n",
       "  'date': datetime.date(2025, 9, 24),\n",
       "  'time': '10:13:44'}]"
      ]
     },
     "metadata": {},
     "output_type": "display_data"
    }
   ],
   "source": [
    "from limpieza_datos2 import *\n",
    "\n",
    "for i in range(5):\n",
    "    limpieza_phishing(df_phishing.iloc[i].to_dict())"
   ]
  },
  {
   "cell_type": "code",
   "execution_count": 2,
   "id": "f9d64506",
   "metadata": {},
   "outputs": [
    {
     "name": "stderr",
     "output_type": "stream",
     "text": [
      "c:\\Users\\Vicen\\Visual Code\\The_Bridge\\Personal_2506_dsft_thebridge\\Tripulaciones\\ds_desafio_grupo1\\app\\limpieza_datos2.py:462: SettingWithCopyWarning: \n",
      "A value is trying to be set on a copy of a slice from a DataFrame.\n",
      "Try using .loc[row_indexer,col_indexer] = value instead\n",
      "\n",
      "See the caveats in the documentation: https://pandas.pydata.org/pandas-docs/stable/user_guide/indexing.html#returning-a-view-versus-a-copy\n",
      "  df_front[\"log_id\"] = [\"Log\" + str(uuid.uuid4().int) ]\n"
     ]
    },
    {
     "name": "stdout",
     "output_type": "stream",
     "text": [
      "==================================================\n",
      "{'log_id': 'Log152054740641452329205948136825378799664', 'login_timestamp': '2020-02-17 10:25:40.854', 'user_id': np.int64(9084155980439359488), 'round_trip_time': None, 'ip_address': '51.174.133.75', 'country': 'NO', 'asn': np.int64(29695), 'user_agent': 'Mozilla/5.0  (iPad; CPU OS 7_1 like Mac OS X) AppleWebKit/533.1 (KHTML, like Gecko Version/4.0 Mobile Safari/533.1 variation/277457', 'country_code': 'NO', 'abuse_confidence_score': np.int64(0), 'last_reported_at': None, 'usage_type': 'Fixed Line ISP', 'domain': 'altibox.no', 'total_reports': np.int64(0)}\n",
      "==================================================\n",
      "[{'log_id': 'Log152054740641452329205948136825378799664', 'company_id': 1, 'type': 'Info', 'indicators': 'Login válido', 'severity': 0, 'date': datetime.date(2025, 2, 17), 'time': '10:25:40', 'actions_taken': 1}]\n"
     ]
    },
    {
     "name": "stderr",
     "output_type": "stream",
     "text": [
      "c:\\Users\\Vicen\\Visual Code\\The_Bridge\\Personal_2506_dsft_thebridge\\Tripulaciones\\ds_desafio_grupo1\\app\\limpieza_datos2.py:462: SettingWithCopyWarning: \n",
      "A value is trying to be set on a copy of a slice from a DataFrame.\n",
      "Try using .loc[row_indexer,col_indexer] = value instead\n",
      "\n",
      "See the caveats in the documentation: https://pandas.pydata.org/pandas-docs/stable/user_guide/indexing.html#returning-a-view-versus-a-copy\n",
      "  df_front[\"log_id\"] = [\"Log\" + str(uuid.uuid4().int) ]\n"
     ]
    },
    {
     "name": "stdout",
     "output_type": "stream",
     "text": [
      "==================================================\n",
      "{'log_id': 'Log281862356480288978760733469978308144202', 'login_timestamp': '2020-02-17 08:10:34.865', 'user_id': np.int64(-4324475583306590208), 'round_trip_time': None, 'ip_address': '1.197.78.123', 'country': 'US', 'asn': np.int64(393398), 'user_agent': 'Mozilla/5.0 (Linux; Android 5.5.1; CHM-U01) AppleWebKit/537.36 (KHTML, like Gecko) Chrome/81.0.4044.2917.138 Mobile Safari/537.36 variation/90236', 'country_code': 'CN', 'abuse_confidence_score': np.int64(100), 'last_reported_at': '2025-09-24T08:39:19+00:00', 'usage_type': 'Fixed Line ISP', 'domain': 'hntele.com', 'total_reports': np.int64(1035)}\n",
      "==================================================\n",
      "[{'log_id': 'Log281862356480288978760733469978308144202', 'company_id': 1, 'type': 'Alerta', 'indicators': 'Ataque fallido', 'severity': 1, 'date': datetime.date(2025, 2, 17), 'time': '08:10:34', 'actions_taken': 1}]\n"
     ]
    },
    {
     "name": "stderr",
     "output_type": "stream",
     "text": [
      "c:\\Users\\Vicen\\Visual Code\\The_Bridge\\Personal_2506_dsft_thebridge\\Tripulaciones\\ds_desafio_grupo1\\app\\limpieza_datos2.py:462: SettingWithCopyWarning: \n",
      "A value is trying to be set on a copy of a slice from a DataFrame.\n",
      "Try using .loc[row_indexer,col_indexer] = value instead\n",
      "\n",
      "See the caveats in the documentation: https://pandas.pydata.org/pandas-docs/stable/user_guide/indexing.html#returning-a-view-versus-a-copy\n",
      "  df_front[\"log_id\"] = [\"Log\" + str(uuid.uuid4().int) ]\n"
     ]
    },
    {
     "name": "stdout",
     "output_type": "stream",
     "text": [
      "==================================================\n",
      "{'log_id': 'Log150820565023345019578678287235151028637', 'login_timestamp': '2020-02-17 01:14:05.320', 'user_id': np.int64(-4324475583306590208), 'round_trip_time': None, 'ip_address': '1.20.104.52', 'country': 'US', 'asn': np.int64(54903), 'user_agent': 'Mozilla/5.0  (iPhone; CPU iPhone OS 11_2_6 like Mac OS X) Gecko/20081407 Firefox/20.0.0.1618 variation/193372', 'country_code': 'TH', 'abuse_confidence_score': np.int64(100), 'last_reported_at': '2025-09-22T20:09:14+00:00', 'usage_type': 'Fixed Line ISP', 'domain': 'tot.co.th', 'total_reports': np.int64(29)}\n",
      "==================================================\n",
      "[{'log_id': 'Log150820565023345019578678287235151028637', 'company_id': 1, 'type': 'Alerta', 'indicators': 'Ataque fallido', 'severity': 1, 'date': datetime.date(2025, 2, 17), 'time': '01:14:05', 'actions_taken': 1}]\n"
     ]
    },
    {
     "name": "stderr",
     "output_type": "stream",
     "text": [
      "c:\\Users\\Vicen\\Visual Code\\The_Bridge\\Personal_2506_dsft_thebridge\\Tripulaciones\\ds_desafio_grupo1\\app\\limpieza_datos2.py:462: SettingWithCopyWarning: \n",
      "A value is trying to be set on a copy of a slice from a DataFrame.\n",
      "Try using .loc[row_indexer,col_indexer] = value instead\n",
      "\n",
      "See the caveats in the documentation: https://pandas.pydata.org/pandas-docs/stable/user_guide/indexing.html#returning-a-view-versus-a-copy\n",
      "  df_front[\"log_id\"] = [\"Log\" + str(uuid.uuid4().int) ]\n"
     ]
    },
    {
     "name": "stdout",
     "output_type": "stream",
     "text": [
      "==================================================\n",
      "{'log_id': 'Log310379141985254907304999945906469131718', 'login_timestamp': '2020-02-16 13:39:28.501', 'user_id': np.int64(5794113125642819584), 'round_trip_time': None, 'ip_address': '37.97.47.54', 'country': 'NO', 'asn': np.int64(29695), 'user_agent': 'Mozilla/5.0  (X11; CrOS armv7l 5978.98.0) AppleWebKit/537.36 (KHTML, like Gecko Chrome/73.0.3654.0 Safari/537.36 variation/964', 'country_code': 'DK', 'abuse_confidence_score': np.int64(0), 'last_reported_at': None, 'usage_type': 'Fixed Line ISP', 'domain': 'altibox.dk', 'total_reports': np.int64(0)}\n",
      "==================================================\n",
      "[{'log_id': 'Log310379141985254907304999945906469131718', 'company_id': 1, 'type': 'Info', 'indicators': 'Login válido', 'severity': 0, 'date': datetime.date(2025, 2, 16), 'time': '13:39:28', 'actions_taken': 1}]\n"
     ]
    },
    {
     "name": "stderr",
     "output_type": "stream",
     "text": [
      "c:\\Users\\Vicen\\Visual Code\\The_Bridge\\Personal_2506_dsft_thebridge\\Tripulaciones\\ds_desafio_grupo1\\app\\limpieza_datos2.py:462: SettingWithCopyWarning: \n",
      "A value is trying to be set on a copy of a slice from a DataFrame.\n",
      "Try using .loc[row_indexer,col_indexer] = value instead\n",
      "\n",
      "See the caveats in the documentation: https://pandas.pydata.org/pandas-docs/stable/user_guide/indexing.html#returning-a-view-versus-a-copy\n",
      "  df_front[\"log_id\"] = [\"Log\" + str(uuid.uuid4().int) ]\n"
     ]
    },
    {
     "name": "stdout",
     "output_type": "stream",
     "text": [
      "Error con 1162240153: 422 Client Error: Unprocessable Entity for url: https://api.abuseipdb.com/api/v2/check?ipAddress=1162240153&maxAgeInDays=90&verbose=true\n",
      "==================================================\n",
      "{'log_id': 'Log327625249898703440113849598870047005311', 'login_timestamp': '2020-02-16 11:54:48.644', 'user_id': np.int64(4828530737408480256), 'round_trip_time': None, 'ip_address': '1162240153', 'country': 'US', 'asn': np.int64(393398), 'user_agent': 'Mozilla/5.0  (Android 6.0.99; Tablet; https://github.com/das-group/rba-dataset) AppleWebKit/537.36 (KHTML, like Gecko Chrome/81.0.4044.138 Mobile Safari/537.36 PHX/5.4 variation/97198', 'country_code': None, 'abuse_confidence_score': None, 'last_reported_at': None, 'usage_type': None, 'domain': None, 'total_reports': None}\n",
      "==================================================\n",
      "[{'log_id': 'Log327625249898703440113849598870047005311', 'company_id': 1, 'type': 'Alerta', 'indicators': 'Cuenta comprometida', 'severity': 2, 'date': datetime.date(2025, 2, 16), 'time': '11:54:48', 'actions_taken': 1}]\n"
     ]
    }
   ],
   "source": [
    "\n",
    "from limpieza_datos2 import *\n",
    "for i in range(5):\n",
    "    clean_data_login2(df_int_login.iloc[i].to_dict())"
   ]
  }
 ],
 "metadata": {
  "kernelspec": {
   "display_name": "Python 3",
   "language": "python",
   "name": "python3"
  },
  "language_info": {
   "codemirror_mode": {
    "name": "ipython",
    "version": 3
   },
   "file_extension": ".py",
   "mimetype": "text/x-python",
   "name": "python",
   "nbconvert_exporter": "python",
   "pygments_lexer": "ipython3",
   "version": "3.13.7"
  }
 },
 "nbformat": 4,
 "nbformat_minor": 5
}
