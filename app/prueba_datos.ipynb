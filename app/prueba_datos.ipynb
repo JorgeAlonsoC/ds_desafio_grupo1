{
 "cells": [
  {
   "cell_type": "code",
   "execution_count": 11,
   "id": "1f8fe10d",
   "metadata": {},
   "outputs": [],
   "source": [
    "import pandas as pd\n",
    "\n",
    "\n",
    "df_int_login = pd.read_csv(\"https://desafiogrupo1.s3.us-east-1.amazonaws.com/df1_alimentacion.csv\")\n",
    "df_ddos = pd.read_csv(\"https://desafiogrupo1.s3.us-east-1.amazonaws.com/df_alimentacion_DDOS.csv\")\n",
    "df_phishing = pd.read_csv(\"https://desafiogrupo1.s3.us-east-1.amazonaws.com/df_prueba_phising.csv\")\n"
   ]
  },
  {
   "cell_type": "code",
   "execution_count": 12,
   "id": "84e99f30",
   "metadata": {},
   "outputs": [
    {
     "data": {
      "text/plain": [
       "((100, 57), (106, 79), (120, 16))"
      ]
     },
     "execution_count": 12,
     "metadata": {},
     "output_type": "execute_result"
    }
   ],
   "source": [
    "df_phishing.shape, df_ddos.shape, df_int_login.shape"
   ]
  },
  {
   "cell_type": "code",
   "execution_count": 9,
   "id": "61880719",
   "metadata": {},
   "outputs": [
    {
     "name": "stderr",
     "output_type": "stream",
     "text": [
      "C:\\Users\\Vicen\\AppData\\Local\\Temp\\ipykernel_6548\\3732104255.py:20: UserWarning: pandas only supports SQLAlchemy connectable (engine/connection) or database string URI or sqlite3 DBAPI2 connection. Other DBAPI2 objects are not tested. Please consider using SQLAlchemy.\n",
      "  df = pd.read_sql(query, conn)\n"
     ]
    },
    {
     "data": {
      "image/png": "[encoded data removed]",
      "text/plain": [
       "<Figure size 640x480 with 1 Axes>"
      ]
     },
     "metadata": {},
     "output_type": "display_data"
    }
   ],
   "source": [
    "import matplotlib.pyplot as plt\n",
    "import seaborn as sns\n",
    "\n",
    "conn = psycopg2.connect(\n",
    "    dbname=\"desafiogrupo1\",\n",
    "    user=\"desafiogrupo1_user\",\n",
    "    password=\"g7jS0htW8QqiGPRymmJw0IJgb04QO3Jy\",\n",
    "    host=\"dpg-d36i177fte5s73bgaisg-a.oregon-postgres.render.com\",\n",
    "    port=\"5432\"\n",
    "    )\n",
    "\n",
    "cur = conn.cursor()\n",
    "query = \"\"\"\n",
    "SELECT *\n",
    "FROM public.logs\n",
    "WHERE indicators IN ('BENIGN', 'XSS', 'Brute Force', 'Sql Injection')\n",
    ";\n",
    "\"\"\"\n",
    "\n",
    "df = pd.read_sql(query, conn)\n",
    "df_group = df.groupby('indicators')['severity'].size().reset_index(name='total')\n",
    "\n",
    "\n",
    "plt.pie(df_group['total'], labels=df_group['indicators'], colors=sns.color_palette(\"pastel\"), wedgeprops=dict(width=0.3), autopct='%1.1f%%' )\n",
    "plt.show()\n",
    "conn.close()"
   ]
  },
  {
   "cell_type": "code",
   "execution_count": 2,
   "id": "ee10cb3c",
   "metadata": {},
   "outputs": [],
   "source": [
    "from limpieza_datos2 import *"
   ]
  },
  {
   "cell_type": "code",
   "execution_count": 13,
   "id": "fe3f87a0",
   "metadata": {},
   "outputs": [
    {
     "name": "stdout",
     "output_type": "stream",
     "text": [
      "[{'URL': 'https://www.purotip.com', 'status': 'ERROR_AUTH', 'malicious': None, 'suspicious': None, 'undetected': None, 'harmless': None, 'timeout': None, 'whois': None, 'tags': None, 'dns_records': [], 'last_dns_records_date': None, 'registrar': None, 'expiration_date': None, 'tld': None, 'issuer': None, 'subject_CN': None, 'cert_not_before': None, 'cert_not_after': None, 'cert_key_size': None, 'thumbprint_sha256': None, 'popularity_ranks': None, 'jarm': None, 'categories': None}]\n"
     ]
    },
    {
     "ename": "KeyError",
     "evalue": "'reputation'",
     "output_type": "error",
     "traceback": [
      "\u001b[31m---------------------------------------------------------------------------\u001b[39m",
      "\u001b[31mKeyError\u001b[39m                                  Traceback (most recent call last)",
      "\u001b[36mCell\u001b[39m\u001b[36m \u001b[39m\u001b[32mIn[13]\u001b[39m\u001b[32m, line 2\u001b[39m\n\u001b[32m      1\u001b[39m \u001b[38;5;28;01mfor\u001b[39;00m i \u001b[38;5;129;01min\u001b[39;00m \u001b[38;5;28mrange\u001b[39m(\u001b[32m30\u001b[39m,\u001b[32m35\u001b[39m):\n\u001b[32m----> \u001b[39m\u001b[32m2\u001b[39m     \u001b[43mclean_data_phishing2\u001b[49m\u001b[43m(\u001b[49m\u001b[43mdf_phishing\u001b[49m\u001b[43m.\u001b[49m\u001b[43miloc\u001b[49m\u001b[43m[\u001b[49m\u001b[43mi\u001b[49m\u001b[43m]\u001b[49m\u001b[43m.\u001b[49m\u001b[43mto_dict\u001b[49m\u001b[43m(\u001b[49m\u001b[43m)\u001b[49m\u001b[43m)\u001b[49m\n",
      "\u001b[36mFile \u001b[39m\u001b[32mc:\\Users\\Vicen\\Visual Code\\The_Bridge\\Personal_2506_dsft_thebridge\\Tripulaciones\\ds_desafio_grupo1\\app\\limpieza_datos2.py:459\u001b[39m, in \u001b[36mclean_data_phishing2\u001b[39m\u001b[34m(dict)\u001b[39m\n\u001b[32m    456\u001b[39m df[\u001b[33m'\u001b[39m\u001b[33mdate\u001b[39m\u001b[33m'\u001b[39m] = now.date()\n\u001b[32m    457\u001b[39m df[\u001b[33m'\u001b[39m\u001b[33mtime\u001b[39m\u001b[33m'\u001b[39m] = now.strftime(\u001b[33m\"\u001b[39m\u001b[33m%\u001b[39m\u001b[33mH:\u001b[39m\u001b[33m%\u001b[39m\u001b[33mM:\u001b[39m\u001b[33m%\u001b[39m\u001b[33mS\u001b[39m\u001b[33m\"\u001b[39m)\n\u001b[32m--> \u001b[39m\u001b[32m459\u001b[39m \u001b[43minsertar_phishing_enriquecido\u001b[49m\u001b[43m(\u001b[49m\u001b[43mdf\u001b[49m\u001b[43m[\u001b[49m\u001b[33;43m'\u001b[39;49m\u001b[33;43mURL\u001b[39;49m\u001b[33;43m'\u001b[39;49m\u001b[43m]\u001b[49m\u001b[43m.\u001b[49m\u001b[43miloc\u001b[49m\u001b[43m[\u001b[49m\u001b[32;43m0\u001b[39;49m\u001b[43m]\u001b[49m\u001b[43m)\u001b[49m\n\u001b[32m    461\u001b[39m df[\u001b[33m\"\u001b[39m\u001b[33mphi_id\u001b[39m\u001b[33m\"\u001b[39m] = [\u001b[33m\"\u001b[39m\u001b[33mPhi\u001b[39m\u001b[33m\"\u001b[39m + \u001b[38;5;28mstr\u001b[39m(uuid.uuid4().int)]\n\u001b[32m    464\u001b[39m conn = psycopg2.connect(\n\u001b[32m    465\u001b[39m     dbname=\u001b[33m\"\u001b[39m\u001b[33mdesafiogrupo1\u001b[39m\u001b[33m\"\u001b[39m,\n\u001b[32m    466\u001b[39m     user=\u001b[33m\"\u001b[39m\u001b[33mdesafiogrupo1_user\u001b[39m\u001b[33m\"\u001b[39m,\n\u001b[32m   (...)\u001b[39m\u001b[32m    469\u001b[39m     port=\u001b[33m\"\u001b[39m\u001b[33m5432\u001b[39m\u001b[33m\"\u001b[39m\n\u001b[32m    470\u001b[39m )\n",
      "\u001b[36mFile \u001b[39m\u001b[32mc:\\Users\\Vicen\\Visual Code\\The_Bridge\\Personal_2506_dsft_thebridge\\Tripulaciones\\ds_desafio_grupo1\\app\\limpieza_datos2.py:430\u001b[39m, in \u001b[36minsertar_phishing_enriquecido\u001b[39m\u001b[34m(url)\u001b[39m\n\u001b[32m    399\u001b[39m records = [\n\u001b[32m    400\u001b[39m     {\n\u001b[32m    401\u001b[39m         \u001b[33m\"\u001b[39m\u001b[33mURL\u001b[39m\u001b[33m\"\u001b[39m: row[\u001b[33m'\u001b[39m\u001b[33mURL\u001b[39m\u001b[33m'\u001b[39m],\n\u001b[32m   (...)\u001b[39m\u001b[32m    425\u001b[39m     \u001b[38;5;28;01mfor\u001b[39;00m _, row \u001b[38;5;129;01min\u001b[39;00m df.iterrows()\n\u001b[32m    426\u001b[39m ]\n\u001b[32m    428\u001b[39m \u001b[38;5;28mprint\u001b[39m(records)\n\u001b[32m--> \u001b[39m\u001b[32m430\u001b[39m \u001b[43mcur\u001b[49m\u001b[43m.\u001b[49m\u001b[43mexecutemany\u001b[49m\u001b[43m(\u001b[49m\u001b[33;43m\"\"\"\u001b[39;49m\n\u001b[32m    431\u001b[39m \u001b[33;43m    INSERT INTO ***** (URL, status, malicious, suspicious, undetected, harmless, timeout, whois, tags, dns_records,\u001b[39;49m\n\u001b[32m    432\u001b[39m \u001b[33;43m                last_dns_records_date, registrar, expiration_date, tld, issuer, subject_CN, cert_not_before, cert_not_after,\u001b[39;49m\n\u001b[32m    433\u001b[39m \u001b[33;43m                cert_key_size, thumbprint_sha256, reputation, popularity_ranks, jarm, categories)\u001b[39;49m\n\u001b[32m    434\u001b[39m \u001b[33;43m    VALUES (\u001b[39;49m\u001b[38;5;132;43;01m%(URL)s\u001b[39;49;00m\u001b[33;43m, \u001b[39;49m\u001b[38;5;132;43;01m%(status)s\u001b[39;49;00m\u001b[33;43m, \u001b[39;49m\u001b[38;5;132;43;01m%(malicious)s\u001b[39;49;00m\u001b[33;43m, \u001b[39;49m\u001b[38;5;132;43;01m%(suspicious)s\u001b[39;49;00m\u001b[33;43m, \u001b[39;49m\u001b[38;5;132;43;01m%(undetected)s\u001b[39;49;00m\u001b[33;43m, \u001b[39;49m\u001b[38;5;132;43;01m%(harmless)s\u001b[39;49;00m\u001b[33;43m, \u001b[39;49m\u001b[38;5;132;43;01m%(timeout)s\u001b[39;49;00m\u001b[33;43m, \u001b[39;49m\u001b[38;5;132;43;01m%(whois)s\u001b[39;49;00m\u001b[33;43m, \u001b[39;49m\u001b[38;5;132;43;01m%(tags)s\u001b[39;49;00m\u001b[33;43m, \u001b[39;49m\u001b[38;5;132;43;01m%(dns_records)s\u001b[39;49;00m\u001b[33;43m,\u001b[39;49m\n\u001b[32m    435\u001b[39m \u001b[33;43m                \u001b[39;49m\u001b[38;5;132;43;01m%(last_dns_records_date)s\u001b[39;49;00m\u001b[33;43m, \u001b[39;49m\u001b[38;5;132;43;01m%(registrar)s\u001b[39;49;00m\u001b[33;43m, \u001b[39;49m\u001b[38;5;132;43;01m%(expiration_date)s\u001b[39;49;00m\u001b[33;43m, \u001b[39;49m\u001b[38;5;132;43;01m%(tld)s\u001b[39;49;00m\u001b[33;43m, \u001b[39;49m\u001b[38;5;132;43;01m%(issuer)s\u001b[39;49;00m\u001b[33;43m, \u001b[39;49m\u001b[38;5;132;43;01m%(subject_CN)s\u001b[39;49;00m\u001b[33;43m, \u001b[39;49m\u001b[38;5;132;43;01m%(cert_not_before)s\u001b[39;49;00m\u001b[33;43m, \u001b[39;49m\u001b[38;5;132;43;01m%(cert_not_after)s\u001b[39;49;00m\u001b[33;43m,\u001b[39;49m\n\u001b[32m    436\u001b[39m \u001b[33;43m                \u001b[39;49m\u001b[38;5;132;43;01m%(cert_key_size)s\u001b[39;49;00m\u001b[33;43m, \u001b[39;49m\u001b[38;5;132;43;01m%(thumbprint_sha256)s\u001b[39;49;00m\u001b[33;43m, \u001b[39;49m\u001b[38;5;132;43;01m%(reputation)s\u001b[39;49;00m\u001b[33;43m, \u001b[39;49m\u001b[38;5;132;43;01m%(popularity_ranks)s\u001b[39;49;00m\u001b[33;43m, \u001b[39;49m\u001b[38;5;132;43;01m%(jarm)s\u001b[39;49;00m\u001b[33;43m, \u001b[39;49m\u001b[38;5;132;43;01m%(categories)s\u001b[39;49;00m\u001b[33;43m)\u001b[39;49m\n\u001b[32m    437\u001b[39m \u001b[33;43m\u001b[39;49m\u001b[33;43m\"\"\"\u001b[39;49m\u001b[43m,\u001b[49m\u001b[43m \u001b[49m\u001b[43mrecords\u001b[49m\u001b[43m)\u001b[49m\n\u001b[32m    438\u001b[39m conn.commit()\n\u001b[32m    439\u001b[39m cur.close()\n",
      "\u001b[31mKeyError\u001b[39m: 'reputation'"
     ]
    }
   ],
   "source": [
    "for i in range(30,35):\n",
    "    clean_data_phishing2(df_phishing.iloc[i].to_dict())"
   ]
  },
  {
   "cell_type": "code",
   "execution_count": 4,
   "id": "739315be",
   "metadata": {},
   "outputs": [
    {
     "name": "stdout",
     "output_type": "stream",
     "text": [
      "(631184, 1, 'Nuevo', 'Info', 'BENIGN', 0, datetime.date(2025, 9, 24), datetime.time(23, 54, 46), '1')\n",
      "(485459, 1, 'Nuevo', 'Info', 'BENIGN', 0, datetime.date(2025, 9, 24), datetime.time(23, 54, 45), '1')\n",
      "(423237, 1, 'Nuevo', 'Info', 'BENIGN', 0, datetime.date(2025, 9, 24), datetime.time(23, 54, 43), '1')\n",
      "(931344, 1, 'Nuevo', 'Info', 'BENIGN', 0, datetime.date(2025, 9, 24), datetime.time(23, 54, 42), '1')\n",
      "(5, 631184, 80, 116253700, 47, 72, 7768182862.0, 1023623334.0, 3259574468.0, 8912830507.0, 0, 2920, 9852008475.0, 2940882371.0, 0, 0, 1.0, 1029444545.0, 10000000.0, 'BENIGN', 'Benign', 0, 'Info', 'HTTP', 'Tráfico web sin TLS. Expuesto a robo/manipulación de datos (MITM) y vulnerabilidades de aplicaciones web (XSS, SQLi, RCE) y del propio servidor.', 'Fallos en frameworks/servidores web y módulos (p. ej., deserialización, path traversal).', 'Redirigir 80→443, WAF, cabeceras seguras (HSTS/CSP), hardening del servidor, parches continuos y pruebas SAST/DAST.', '2025-09-24', '23:54:46')\n",
      "(4, 485459, 443, 110280521, 16, 16, 2647793077.0, 0.290169104, 72.5, 1981077148.0, 0, 654, 3557436161.0, 4851152782.0, 1, 1, 1.0, 3150572727.0, 9991885545.0, 'BENIGN', 'Benign', 0, 'Info', 'HTTPS', 'Web con TLS. Riesgo principal: mala configuración (protocolos/algoritmos débiles, certificados inválidos) además de las mismas vulnerabilidades de la app web que en 80.', 'Downgrade/MITM si hay TLS obsoleto; fallos en librerías TLS y servidores.', 'TLS 1.2/1.3, desactivar suites inseguras, HSTS, pinning si aplica, automatizar renovación de certificados, WAF y hardening.', '2025-09-24', '23:54:45')\n",
      "(3, 423237, 53, 163, 2, 2, 2245398773.0, 245398773.0, 42.0, 0.0, 42, 141, 5433333333.0, 8804733575.0, 0, 0, 1.0, 0.0, 0.0, 'BENIGN', 'Benign', 0, 'Info', 'DNS', 'Resolución de nombres. Muy usado en ataques de envenenamiento de caché, spoofing, tunneling y amplificación DDoS.', 'Vulnerabilidades en BIND/Unbound/dnsmasq; abuso de recursión abierta.', 'Desactivar recursión pública, aplicar rate-limit, DNSSEC, listas de control de acceso, egress filtering para impedir túneles DNS.', '2025-09-24', '23:54:43')\n",
      "(2, 931344, 53, 179, 2, 2, 1363128492.0, 2234636872.0, 35.0, 0.0, 35, 87, 5966666667.0, 9728480525.0, 0, 0, 1.0, 0.0, 0.0, 'BENIGN', 'Benign', 0, 'Info', 'DNS', 'Resolución de nombres. Muy usado en ataques de envenenamiento de caché, spoofing, tunneling y amplificación DDoS.', 'Vulnerabilidades en BIND/Unbound/dnsmasq; abuso de recursión abierta.', 'Desactivar recursión pública, aplicar rate-limit, DNSSEC, listas de control de acceso, egress filtering para impedir túneles DNS.', '2025-09-24', '23:54:42')\n"
     ]
    }
   ],
   "source": [
    "import psycopg2\n",
    "\n",
    "# Credenciales\n",
    "DB_USER = \"desafiogrupo1_user\"\n",
    "DB_HOST = \"dpg-d36i177fte5s73bgaisg-a.oregon-postgres.render.com\"\n",
    "DB_NAME = \"desafiogrupo1\"\n",
    "DB_PASS = \"g7jS0htW8QqiGPRymmJw0IJgb04QO3Jy\"\n",
    "DB_PORT = \"5432\"\n",
    "\n",
    "try:\n",
    "    # Crear conexión\n",
    "    conn = psycopg2.connect(\n",
    "        dbname=DB_NAME,\n",
    "        user=DB_USER,\n",
    "        password=DB_PASS,\n",
    "        host=DB_HOST,\n",
    "        port=DB_PORT\n",
    "    )\n",
    "\n",
    "    # Crear cursor\n",
    "    cur = conn.cursor()\n",
    "\n",
    "    # Probar con una consulta\n",
    "    cur.execute(\"SELECT * FROM logs ORDER BY time DESC LIMIT 5;\")\n",
    "    cur.fetchone()\n",
    "    for row in cur.fetchall():\n",
    "        print(row)\n",
    "\n",
    "    # Probar con una consulta\n",
    "    cur.execute(\"SELECT * FROM ddos ORDER BY time DESC LIMIT 5;\")\n",
    "    cur.fetchone()\n",
    "    for row in cur.fetchall():\n",
    "        print(row)\n",
    "\n",
    "    # Cerrar\n",
    "    cur.close()\n",
    "    conn.close()\n",
    "\n",
    "except Exception as e:\n",
    "    print(\"Error de conexión:\", e)"
   ]
  }
 ],
 "metadata": {
  "kernelspec": {
   "display_name": "Python 3",
   "language": "python",
   "name": "python3"
  },
  "language_info": {
   "codemirror_mode": {
    "name": "ipython",
    "version": 3
   },
   "file_extension": ".py",
   "mimetype": "text/x-python",
   "name": "python",
   "nbconvert_exporter": "python",
   "pygments_lexer": "ipython3",
   "version": "3.13.7"
  }
 },
 "nbformat": 4,
 "nbformat_minor": 5
}
