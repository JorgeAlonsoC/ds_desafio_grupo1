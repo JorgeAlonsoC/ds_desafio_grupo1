{
 "cells": [
  {
   "cell_type": "code",
   "execution_count": 7,
   "id": "8a2b0402",
   "metadata": {},
   "outputs": [],
   "source": [
    "import pandas as pd\n",
    "from enriquecimiento_sin_BBDD import check_ip_info, enrich_login_record\n",
    "from dotenv import load_dotenv\n",
    "import os\n"
   ]
  },
  {
   "cell_type": "code",
   "execution_count": 10,
   "id": "60d87f89",
   "metadata": {},
   "outputs": [
    {
     "name": "stdout",
     "output_type": "stream",
     "text": [
      "3eeea1a946388668dd7a3d0a05cc1444cd4e173b107d3777535ac6ebedc78428794fe24a9ef9a32b\n"
     ]
    }
   ],
   "source": [
    "\n",
    "load_dotenv()\n",
    "API_KEY = os.getenv(\"ABUSEIPDB_API_KEY\")\n",
    "print(API_KEY)"
   ]
  },
  {
   "cell_type": "code",
   "execution_count": 11,
   "id": "9e640067",
   "metadata": {},
   "outputs": [
    {
     "name": "stdout",
     "output_type": "stream",
     "text": [
      "Error con 8.8.8.8: 401 Client Error: Unauthorized for url: https://api.abuseipdb.com/api/v2/check?ipAddress=8.8.8.8&maxAgeInDays=90&verbose=true\n",
      "Error con 1.1.1.1: 401 Client Error: Unauthorized for url: https://api.abuseipdb.com/api/v2/check?ipAddress=1.1.1.1&maxAgeInDays=90&verbose=true\n",
      "      log_id       Login Timestamp  User ID  Round-Trip Time [ms] IP Address  \\\n",
      "0  Log123456  2025-09-23T10:00:00Z  user_01                   120    8.8.8.8   \n",
      "1  Log789012  2025-09-23T11:00:00Z  user_02                    95    1.1.1.1   \n",
      "\n",
      "  Country    ASN User Agent String  \n",
      "0      US  15169       Mozilla/5.0  \n",
      "1      AU  13335      Chrome/100.0  \n"
     ]
    }
   ],
   "source": [
    "\n",
    "# Crear un DataFrame de prueba (simula df_id de limpieza)\n",
    "df_test = pd.DataFrame([\n",
    "    {\n",
    "        \"log_id\": \"Log123456\",\n",
    "        \"Login Timestamp\": \"2025-09-23T10:00:00Z\",\n",
    "        \"User ID\": \"user_01\",\n",
    "        \"Round-Trip Time [ms]\": 120,\n",
    "        \"IP Address\": \"8.8.8.8\",\n",
    "        \"Country\": \"US\",\n",
    "        \"ASN\": 15169,\n",
    "        \"User Agent String\": \"Mozilla/5.0\"\n",
    "    },\n",
    "    {\n",
    "        \"log_id\": \"Log789012\",\n",
    "        \"Login Timestamp\": \"2025-09-23T11:00:00Z\",\n",
    "        \"User ID\": \"user_02\",\n",
    "        \"Round-Trip Time [ms]\": 95,\n",
    "        \"IP Address\": \"1.1.1.1\",\n",
    "        \"Country\": \"AU\",\n",
    "        \"ASN\": 13335,\n",
    "        \"User Agent String\": \"Chrome/100.0\"\n",
    "    }\n",
    "])\n",
    "\n",
    "# Iterar fila por fila y aplicar enriquecimiento\n",
    "enriched_rows = [enrich_login_record(row.to_dict()) for _, row in df_test.iterrows()]\n",
    "\n",
    "# Concatenar resultados en un solo DataFrame\n",
    "df_enriched_test = pd.concat(enriched_rows, ignore_index=True)\n",
    "\n",
    "# Mostrar resultados\n",
    "print(df_enriched_test)\n",
    "\n",
    "\n"
   ]
  }
 ],
 "metadata": {
  "kernelspec": {
   "display_name": "Python 3",
   "language": "python",
   "name": "python3"
  },
  "language_info": {
   "codemirror_mode": {
    "name": "ipython",
    "version": 3
   },
   "file_extension": ".py",
   "mimetype": "text/x-python",
   "name": "python",
   "nbconvert_exporter": "python",
   "pygments_lexer": "ipython3",
   "version": "3.13.5"
  }
 },
 "nbformat": 4,
 "nbformat_minor": 5
}
