{
 "cells": [
  {
   "cell_type": "code",
   "execution_count": 24,
   "id": "8a2b0402",
   "metadata": {},
   "outputs": [],
   "source": [
    "from limpieza import clean_data_login"
   ]
  },
  {
   "cell_type": "code",
   "execution_count": 26,
   "id": "9e640067",
   "metadata": {},
   "outputs": [
    {
     "name": "stdout",
     "output_type": "stream",
     "text": [
      "=== DataFrame Dashboard (df_front) ===\n",
      "           Login Timestamp Login Successful Is Attack IP Is Account Takeover  \\\n",
      "0  2020-02-17 10:25:40.854             None         None                None   \n",
      "\n",
      "                                log_id  \n",
      "0  Logd9959cb098c14eafbc8f4b63ef161db6  \n",
      "\n",
      "=== DataFrame Base (df_base) ===\n",
      "           Login Timestamp              User ID Round-Trip Time [ms]  \\\n",
      "0  2020-02-17 10:25:40.854  9084155980439359488                 None   \n",
      "\n",
      "      IP Address Country                Region   City    ASN  \\\n",
      "0  51.174.133.75      NO  Vestfold og Telemark  Skien  29695   \n",
      "\n",
      "    User Agent String Browser Name and Version  ... Device Type  \\\n",
      "0  Mozilla/5.0  (iPad                     None  ...        None   \n",
      "\n",
      "  Login Successful Is Attack IP Is Account Takeover        Date      Time  \\\n",
      "0             None         None                None  2025-02-17  10:25:40   \n",
      "\n",
      "  Severity    Tipo     Indicadores                               log_id  \n",
      "0        1  Alerta  Ataque fallido  Logd9959cb098c14eafbc8f4b63ef161db6  \n",
      "\n",
      "[1 rows x 21 columns]\n",
      "\n",
      "Log IDs generados:\n",
      "['Logd9959cb098c14eafbc8f4b63ef161db6']\n"
     ]
    },
    {
     "name": "stderr",
     "output_type": "stream",
     "text": [
      "c:\\Users\\Merche\\REPOSITORIO_MI_PORTFOLIO\\Portfolio\\SIRP\\src\\app\\limpieza.py:25: FutureWarning: Downcasting object dtype arrays on .fillna, .ffill, .bfill is deprecated and will change in a future version. Call result.infer_objects(copy=False) instead. To opt-in to the future behavior, set `pd.set_option('future.no_silent_downcasting', True)`\n",
      "  ls  = df.get(\"Login Successful\", pd.Series([False])).fillna(False).astype(bool)\n",
      "c:\\Users\\Merche\\REPOSITORIO_MI_PORTFOLIO\\Portfolio\\SIRP\\src\\app\\limpieza.py:26: FutureWarning: Downcasting object dtype arrays on .fillna, .ffill, .bfill is deprecated and will change in a future version. Call result.infer_objects(copy=False) instead. To opt-in to the future behavior, set `pd.set_option('future.no_silent_downcasting', True)`\n",
      "  ia  = df.get(\"Is Attack IP\", pd.Series([False])).fillna(False).astype(bool)\n",
      "c:\\Users\\Merche\\REPOSITORIO_MI_PORTFOLIO\\Portfolio\\SIRP\\src\\app\\limpieza.py:27: FutureWarning: Downcasting object dtype arrays on .fillna, .ffill, .bfill is deprecated and will change in a future version. Call result.infer_objects(copy=False) instead. To opt-in to the future behavior, set `pd.set_option('future.no_silent_downcasting', True)`\n",
      "  iat = df.get(\"Is Account Takeover\", pd.Series([False])).fillna(False).astype(bool)\n"
     ]
    }
   ],
   "source": [
    "\n",
    "# Diccionario de prueba (simula un login)\n",
    "test_login = {\n",
    "    \"Login Timestamp\": \"2020-02-17 10:25:40.854\",\n",
    "    \"User ID\": \"9084155980439359488\",\n",
    "    \"Round-Trip Time [ms]\": None,   \n",
    "    \"IP Address\": \"51.174.133.75\",\n",
    "    \"Country\": \"NO\",\n",
    "    \"Region\": \"Vestfold og Telemark\",\n",
    "    \"City\": \"Skien\",\n",
    "    \"ASN\": \"29695\",\n",
    "    \"User Agent String\": \"Mozilla/5.0  (iPad\",\n",
    "    \"Browser Name and Version\": None,   \n",
    "    \"OS Name and Version\": None,        \n",
    "    \"Device Type\": None,                \n",
    "    \"Login Successful\": None,          \n",
    "    \"Is Attack IP\": None,              \n",
    "    \"Is Account Takeover\": None        \n",
    "}\n",
    "\n",
    "# Ejecutar limpieza\n",
    "df_front, df_base = clean_data_login(test_login)\n",
    "\n",
    "print(\"=== DataFrame Dashboard (df_front) ===\")\n",
    "print(df_front)\n",
    "\n",
    "print(\"\\n=== DataFrame Base (df_base) ===\")\n",
    "print(df_base)\n",
    "\n",
    "# Mostrar log_id generados\n",
    "print(\"\\nLog IDs generados:\")\n",
    "print(df_front['log_id'].tolist())\n"
   ]
  }
 ],
 "metadata": {
  "kernelspec": {
   "display_name": "Python 3",
   "language": "python",
   "name": "python3"
  },
  "language_info": {
   "codemirror_mode": {
    "name": "ipython",
    "version": 3
   },
   "file_extension": ".py",
   "mimetype": "text/x-python",
   "name": "python",
   "nbconvert_exporter": "python",
   "pygments_lexer": "ipython3",
   "version": "3.13.5"
  }
 },
 "nbformat": 4,
 "nbformat_minor": 5
}
