{
 "cells": [
  {
   "cell_type": "code",
   "execution_count": 10,
   "id": "fd3ca412",
   "metadata": {},
   "outputs": [],
   "source": [
    "import os\n",
    "import requests\n",
    "import pandas as pd\n",
    "import time\n",
    "from dotenv import load_dotenv"
   ]
  },
  {
   "cell_type": "code",
   "execution_count": 2,
   "id": "ab7e8b54",
   "metadata": {},
   "outputs": [],
   "source": [
    "load_dotenv() \n",
    "API_KEY = os.getenv(\"ABUSEIPDB_API_KEY\")"
   ]
  },
  {
   "cell_type": "markdown",
   "id": "a92a128c",
   "metadata": {},
   "source": [
    "## Descargar la Blacklist"
   ]
  },
  {
   "cell_type": "code",
   "execution_count": 3,
   "id": "a4c7a2d4",
   "metadata": {},
   "outputs": [],
   "source": [
    "BLACKLIST_URL = \"https://api.abuseipdb.com/api/v2/blacklist\"\n",
    "\n",
    "HEADERS = {\n",
    "    \"Accept\": \"application/json\",\n",
    "    \"Key\": API_KEY\n",
    "}\n",
    "\n",
    "params = {\n",
    "    \"confidenceMinimum\": \"90\"\n",
    "}\n",
    "\n",
    "response = requests.get(BLACKLIST_URL, headers=HEADERS, params=params)\n",
    "\n",
    "if response.status_code != 200:\n",
    "    print(\"Error:\", response.status_code, response.text)\n",
    "    exit()\n",
    "\n"
   ]
  },
  {
   "cell_type": "code",
   "execution_count": 4,
   "id": "5e19ab90",
   "metadata": {},
   "outputs": [],
   "source": [
    "response = requests.get(BLACKLIST_URL, headers=HEADERS, params=params)\n"
   ]
  },
  {
   "cell_type": "code",
   "execution_count": 5,
   "id": "59650c1c",
   "metadata": {},
   "outputs": [],
   "source": [
    "# --- Convertir respuesta JSON a Python ---\n",
    "data_json = response.json()\n",
    "# la clave 'data' contiene la lista de IPs con detalles\n",
    "blacklist_data = data_json.get(\"data\", [])\n",
    "\n",
    "# --- Convertir a DataFrame para análisis o CSV ---\n",
    "df = pd.DataFrame(blacklist_data)\n",
    "\n",
    "# --- Guardar CSV ---\n",
    "df.to_csv(\"abuseipdb_blacklist.json.csv\", index=False)"
   ]
  },
  {
   "cell_type": "code",
   "execution_count": 6,
   "id": "23f49730",
   "metadata": {},
   "outputs": [
    {
     "name": "stdout",
     "output_type": "stream",
     "text": [
      "Se descargaron 10000 IPs maliciosas con score >=90\n",
      "Primeras 5 IPs con detalle:\n",
      "         ipAddress countryCode  abuseConfidenceScore  \\\n",
      "0   101.78.161.172          HK                   100   \n",
      "1   91.244.113.178          RU                   100   \n",
      "2  203.150.162.250          TH                   100   \n",
      "3     80.94.95.112          RO                   100   \n",
      "4   14.103.127.242          CN                   100   \n",
      "\n",
      "              lastReportedAt  \n",
      "0  2025-09-19T14:17:02+00:00  \n",
      "1  2025-09-19T14:17:02+00:00  \n",
      "2  2025-09-19T14:17:02+00:00  \n",
      "3  2025-09-19T14:17:02+00:00  \n",
      "4  2025-09-19T14:17:02+00:00  \n"
     ]
    }
   ],
   "source": [
    "print(f\"Se descargaron {len(df)} IPs maliciosas con score >=90\")\n",
    "print(\"Primeras 5 IPs con detalle:\")\n",
    "print(df.head())"
   ]
  },
  {
   "cell_type": "markdown",
   "id": "5a68c016",
   "metadata": {},
   "source": [
    "## Consultar IP"
   ]
  },
  {
   "cell_type": "code",
   "execution_count": 7,
   "id": "2335f504",
   "metadata": {},
   "outputs": [],
   "source": [
    "CHECK_URL = \"https://api.abuseipdb.com/api/v2/check\""
   ]
  },
  {
   "cell_type": "code",
   "execution_count": 8,
   "id": "42c0cb55",
   "metadata": {},
   "outputs": [],
   "source": [
    "def check_ips_confidence(ips, pause=1.0):\n",
    "    \"\"\"\n",
    "    Recibe lista de IPs y devuelve un diccionario {IP: abuseConfidenceScore}\n",
    "    pause: segundos a esperar entre peticiones para no saturar la API\n",
    "    \"\"\"\n",
    "    results = {}\n",
    "    for ip in ips:\n",
    "        try:\n",
    "            params = {\"ipAddress\": ip, \"maxAgeInDays\": \"90\"}\n",
    "            r = requests.get(CHECK_URL, headers=HEADERS, params=params)\n",
    "            r.raise_for_status()\n",
    "            data = r.json().get(\"data\", {})\n",
    "            score = data.get(\"abuseConfidenceScore\", 0)\n",
    "            results[ip] = score\n",
    "            print(f\"{ip} -> {score}%\")\n",
    "        except Exception as e:\n",
    "            print(f\"Error con {ip}: {e}\")\n",
    "            results[ip] = None\n",
    "        time.sleep(pause)\n",
    "    return results"
   ]
  },
  {
   "cell_type": "code",
   "execution_count": 11,
   "id": "f03ba2aa",
   "metadata": {},
   "outputs": [
    {
     "name": "stdout",
     "output_type": "stream",
     "text": [
      "180.76.105.165 -> 100%\n",
      "143.92.37.165 -> 100%\n",
      "1.1.1.1 -> 0%\n",
      "{'180.76.105.165': 100, '143.92.37.165': 100, '1.1.1.1': 0}\n"
     ]
    }
   ],
   "source": [
    "# EJEMPLO DE USO\n",
    "\n",
    "ips = [\"180.76.105.165\", \"143.92.37.165\", \"1.1.1.1\"]\n",
    "confidence_scores = check_ips_confidence(ips)\n",
    "print(confidence_scores)"
   ]
  },
  {
   "cell_type": "code",
   "execution_count": 12,
   "id": "3188a16d",
   "metadata": {},
   "outputs": [
    {
     "name": "stdout",
     "output_type": "stream",
     "text": [
      "IPs consideradas maliciosas: {'180.76.105.165': 100, '143.92.37.165': 100}\n"
     ]
    }
   ],
   "source": [
    "#¿Filtrado?\n",
    "\n",
    "ipmaliciosas = {ip: score for ip, score in confidence_scores.items() if score >= 75}\n",
    "print(\"IPs consideradas maliciosas:\", ipmaliciosas)"
   ]
  },
  {
   "cell_type": "code",
   "execution_count": 13,
   "id": "49d77eb1",
   "metadata": {},
   "outputs": [
    {
     "name": "stdout",
     "output_type": "stream",
     "text": [
      "Archivo confidence_scores.csv guardado.\n"
     ]
    }
   ],
   "source": [
    "#Pasar a Dataframe\n",
    "\n",
    "df = pd.DataFrame(list(confidence_scores.items()), columns=[\"IP\", \"ConfidenceScore\"])\n",
    "df.to_csv(\"ipmaliciosas.csv\", index=False)\n",
    "print(\"Archivo confidence_scores.csv guardado.\")"
   ]
  }
 ],
 "metadata": {
  "kernelspec": {
   "display_name": "Python 3",
   "language": "python",
   "name": "python3"
  },
  "language_info": {
   "codemirror_mode": {
    "name": "ipython",
    "version": 3
   },
   "file_extension": ".py",
   "mimetype": "text/x-python",
   "name": "python",
   "nbconvert_exporter": "python",
   "pygments_lexer": "ipython3",
   "version": "3.13.5"
  }
 },
 "nbformat": 4,
 "nbformat_minor": 5
}
